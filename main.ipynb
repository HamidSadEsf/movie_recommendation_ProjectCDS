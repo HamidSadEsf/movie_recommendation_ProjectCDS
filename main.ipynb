{
 "cells": [
  {
   "cell_type": "code",
   "execution_count": 1,
   "id": "a3ff1ac5-fe95-499d-bc68-6a83ca0112f9",
   "metadata": {},
   "outputs": [],
   "source": [
    "# Import all necessary modules\n",
    "import pandas as pd\n",
    "import numpy as np\n",
    "import CollaborativeFilteringRec as cfr\n",
    "from scipy.sparse import csr_matrix, load_npz"
   ]
  },
  {
   "cell_type": "code",
   "execution_count": 2,
   "id": "d8d9403d-2900-4628-a0fd-1b8c3e296d3f",
   "metadata": {},
   "outputs": [],
   "source": [
    "# load utility matrix \n",
    "util_mat = pd.read_csv('pivot.csv', index_col='userId')"
   ]
  },
  {
   "cell_type": "code",
   "execution_count": 3,
   "id": "0def64b3-1e78-4052-9548-92bcd263fb41",
   "metadata": {},
   "outputs": [
    {
     "name": "stdout",
     "output_type": "stream",
     "text": [
      "Let's make recommendations for the user 10121 !\n"
     ]
    }
   ],
   "source": [
    "# Choose randomly a userId\n",
    "user_id = np.random.choice(util_mat.index)\n",
    "print(\"Let's make predictions of ratings for the user\", user_id, \"!\")"
   ]
  },
  {
   "cell_type": "code",
   "execution_count": 7,
   "id": "96384252-0abe-4bea-afa9-797a9087607a",
   "metadata": {},
   "outputs": [
    {
     "name": "stdout",
     "output_type": "stream",
     "text": [
      "Here they are:\n"
     ]
    },
    {
     "data": {
      "text/html": [
       "<div>\n",
       "<style scoped>\n",
       "    .dataframe tbody tr th:only-of-type {\n",
       "        vertical-align: middle;\n",
       "    }\n",
       "\n",
       "    .dataframe tbody tr th {\n",
       "        vertical-align: top;\n",
       "    }\n",
       "\n",
       "    .dataframe thead th {\n",
       "        text-align: right;\n",
       "    }\n",
       "</style>\n",
       "<table border=\"1\" class=\"dataframe\">\n",
       "  <thead>\n",
       "    <tr style=\"text-align: right;\">\n",
       "      <th></th>\n",
       "      <th>movieId</th>\n",
       "      <th>rating</th>\n",
       "    </tr>\n",
       "  </thead>\n",
       "  <tbody>\n",
       "    <tr>\n",
       "      <th>0</th>\n",
       "      <td>1</td>\n",
       "      <td>4.014925</td>\n",
       "    </tr>\n",
       "    <tr>\n",
       "      <th>1</th>\n",
       "      <td>2</td>\n",
       "      <td>2.625000</td>\n",
       "    </tr>\n",
       "    <tr>\n",
       "      <th>2</th>\n",
       "      <td>3</td>\n",
       "      <td>2.315217</td>\n",
       "    </tr>\n",
       "    <tr>\n",
       "      <th>3</th>\n",
       "      <td>4</td>\n",
       "      <td>2.700000</td>\n",
       "    </tr>\n",
       "    <tr>\n",
       "      <th>4</th>\n",
       "      <td>5</td>\n",
       "      <td>2.274194</td>\n",
       "    </tr>\n",
       "    <tr>\n",
       "      <th>5</th>\n",
       "      <td>6</td>\n",
       "      <td>3.665323</td>\n",
       "    </tr>\n",
       "    <tr>\n",
       "      <th>6</th>\n",
       "      <td>7</td>\n",
       "      <td>2.877049</td>\n",
       "    </tr>\n",
       "    <tr>\n",
       "      <th>7</th>\n",
       "      <td>8</td>\n",
       "      <td>2.166667</td>\n",
       "    </tr>\n",
       "    <tr>\n",
       "      <th>8</th>\n",
       "      <td>9</td>\n",
       "      <td>2.318182</td>\n",
       "    </tr>\n",
       "    <tr>\n",
       "      <th>9</th>\n",
       "      <td>10</td>\n",
       "      <td>3.069620</td>\n",
       "    </tr>\n",
       "  </tbody>\n",
       "</table>\n",
       "</div>"
      ],
      "text/plain": [
       "  movieId    rating\n",
       "0       1  4.014925\n",
       "1       2  2.625000\n",
       "2       3  2.315217\n",
       "3       4  2.700000\n",
       "4       5  2.274194\n",
       "5       6  3.665323\n",
       "6       7  2.877049\n",
       "7       8  2.166667\n",
       "8       9  2.318182\n",
       "9      10  3.069620"
      ]
     },
     "execution_count": 7,
     "metadata": {},
     "output_type": "execute_result"
    }
   ],
   "source": [
    "cfr_ratings_pred = cfr.get_predictions(user_id, util_mat, 20)\n",
    "print(\"Here they are:\")\n",
    "cfr_ratings_pred.head(20)"
   ]
  },
  {
   "cell_type": "code",
   "execution_count": null,
   "id": "30ab822a-6a01-496c-9faa-6f8b093d94c7",
   "metadata": {},
   "outputs": [],
   "source": []
  }
 ],
 "metadata": {
  "kernelspec": {
   "display_name": "Python 3 (ipykernel)",
   "language": "python",
   "name": "python3"
  },
  "language_info": {
   "codemirror_mode": {
    "name": "ipython",
    "version": 3
   },
   "file_extension": ".py",
   "mimetype": "text/x-python",
   "name": "python",
   "nbconvert_exporter": "python",
   "pygments_lexer": "ipython3",
   "version": "3.10.9"
  }
 },
 "nbformat": 4,
 "nbformat_minor": 5
}
