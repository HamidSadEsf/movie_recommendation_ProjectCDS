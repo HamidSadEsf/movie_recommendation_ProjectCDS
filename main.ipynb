{
 "cells": [
  {
   "cell_type": "code",
   "execution_count": 4,
   "id": "a3ff1ac5-fe95-499d-bc68-6a83ca0112f9",
   "metadata": {},
   "outputs": [],
   "source": [
    "# Import all necessary modules\n",
    "import pandas as pd\n",
    "import numpy as np\n",
    "import model.CollaborativeFilteringRec as cfr\n",
    "from scipy.sparse import csr_matrix, load_npz"
   ]
  },
  {
   "cell_type": "code",
   "execution_count": 5,
   "id": "d8d9403d-2900-4628-a0fd-1b8c3e296d3f",
   "metadata": {},
   "outputs": [],
   "source": [
    "# load utility matrix \n",
    "util_mat = pd.read_csv('matrices/pivot.csv', index_col='userId')"
   ]
  },
  {
   "cell_type": "code",
   "execution_count": 6,
   "id": "96384252-0abe-4bea-afa9-797a9087607a",
   "metadata": {},
   "outputs": [
    {
     "name": "stdout",
     "output_type": "stream",
     "text": [
      "Let's make predictions of ratings for the user 109861 !\n"
     ]
    },
    {
     "ename": "IndexError",
     "evalue": "index 5262 is out of bounds for axis 0 with size 1351",
     "output_type": "error",
     "traceback": [
      "\u001b[0;31m---------------------------------------------------------------------------\u001b[0m",
      "\u001b[0;31mIndexError\u001b[0m                                Traceback (most recent call last)",
      "Cell \u001b[0;32mIn[6], line 5\u001b[0m\n\u001b[1;32m      2\u001b[0m user_id \u001b[38;5;241m=\u001b[39m np\u001b[38;5;241m.\u001b[39mrandom\u001b[38;5;241m.\u001b[39mchoice(util_mat\u001b[38;5;241m.\u001b[39mindex)\n\u001b[1;32m      3\u001b[0m \u001b[38;5;28mprint\u001b[39m(\u001b[38;5;124m\"\u001b[39m\u001b[38;5;124mLet\u001b[39m\u001b[38;5;124m'\u001b[39m\u001b[38;5;124ms make predictions of ratings for the user\u001b[39m\u001b[38;5;124m\"\u001b[39m, user_id, \u001b[38;5;124m\"\u001b[39m\u001b[38;5;124m!\u001b[39m\u001b[38;5;124m\"\u001b[39m)\n\u001b[0;32m----> 5\u001b[0m cfr_ratings_pred \u001b[38;5;241m=\u001b[39m \u001b[43mcfr\u001b[49m\u001b[38;5;241;43m.\u001b[39;49m\u001b[43mget_predictions\u001b[49m\u001b[43m(\u001b[49m\u001b[43muser_id\u001b[49m\u001b[43m,\u001b[49m\u001b[43m \u001b[49m\u001b[43mutil_mat\u001b[49m\u001b[43m,\u001b[49m\u001b[43m \u001b[49m\u001b[38;5;241;43m20\u001b[39;49m\u001b[43m)\u001b[49m\n\u001b[1;32m      6\u001b[0m \u001b[38;5;28mprint\u001b[39m(\u001b[38;5;124m\"\u001b[39m\u001b[38;5;124mHere they are:\u001b[39m\u001b[38;5;124m\"\u001b[39m)\n\u001b[1;32m      7\u001b[0m cfr_ratings_pred\u001b[38;5;241m.\u001b[39mhead(\u001b[38;5;241m20\u001b[39m)\n",
      "File \u001b[0;32m~/Documents/DS/movie_recommendation_ProjectCDS/CollaborativeFilteringRec.py:52\u001b[0m, in \u001b[0;36mget_predictions\u001b[0;34m(user_id, util_mat, n_predictions)\u001b[0m\n\u001b[1;32m     50\u001b[0m \u001b[38;5;66;03m# Find the nearest neighbors for the target user (e.g., User1)\u001b[39;00m\n\u001b[1;32m     51\u001b[0m mask \u001b[38;5;241m=\u001b[39m np\u001b[38;5;241m.\u001b[39mzeros(csr_util_mat\u001b[38;5;241m.\u001b[39mshape[\u001b[38;5;241m0\u001b[39m], dtype\u001b[38;5;241m=\u001b[39m\u001b[38;5;28mbool\u001b[39m)\n\u001b[0;32m---> 52\u001b[0m mask[user_index] \u001b[38;5;241m=\u001b[39m \u001b[38;5;28;01mTrue\u001b[39;00m\n\u001b[1;32m     53\u001b[0m target_user_row \u001b[38;5;241m=\u001b[39m csr_util_mat[mask]\n\u001b[1;32m     55\u001b[0m distances, indices \u001b[38;5;241m=\u001b[39m nn\u001b[38;5;241m.\u001b[39mkneighbors(target_user_row)\n",
      "\u001b[0;31mIndexError\u001b[0m: index 5262 is out of bounds for axis 0 with size 1351"
     ]
    }
   ],
   "source": [
    "# Choose randomly a userId\n",
    "user_id = np.random.choice(util_mat.index)\n",
    "print(\"Let's make predictions of ratings for the user\", user_id, \"!\")\n",
    "\n",
    "cfr_ratings_pred = cfr.get_predictions(user_id, util_mat, 20)\n",
    "print(\"Here they are:\")\n",
    "cfr_ratings_pred.head(20)"
   ]
  },
  {
   "cell_type": "code",
   "execution_count": null,
   "id": "30ab822a-6a01-496c-9faa-6f8b093d94c7",
   "metadata": {},
   "outputs": [],
   "source": []
  }
 ],
 "metadata": {
  "kernelspec": {
   "display_name": "Python 3 (ipykernel)",
   "language": "python",
   "name": "python3"
  },
  "language_info": {
   "codemirror_mode": {
    "name": "ipython",
    "version": 3
   },
   "file_extension": ".py",
   "mimetype": "text/x-python",
   "name": "python",
   "nbconvert_exporter": "python",
   "pygments_lexer": "ipython3",
   "version": "3.10.9"
  }
 },
 "nbformat": 4,
 "nbformat_minor": 5
}
