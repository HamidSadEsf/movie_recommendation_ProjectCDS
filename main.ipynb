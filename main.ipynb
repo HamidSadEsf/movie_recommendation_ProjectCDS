{
 "cells": [
  {
   "cell_type": "markdown",
   "id": "5cdc6d1d-a876-404e-bdbd-3d3a981622c7",
   "metadata": {},
   "source": [
    "# Demostration of the recommenders"
   ]
  },
  {
   "cell_type": "code",
   "execution_count": 1,
   "id": "8a30c231-b81a-48e9-ae0d-baaec59278e3",
   "metadata": {},
   "outputs": [
    {
     "name": "stdout",
     "output_type": "stream",
     "text": [
      "1004\n"
     ]
    }
   ],
   "source": [
    "import pandas as pd\n",
    "import numpy as np\n",
    "import time\n",
    "%matplotlib inline\n",
    "import matplotlib.pyplot as plt\n",
    "from surprise import dump\n",
    "from evaluation.Evaluate import Evaluate, Evaluate_CFR\n",
    "\n",
    "import model.CollaborativeFilteringRec as CFR\n",
    "from model.CollaborativeFilteringRec import train_cf_models\n",
    "\n",
    "#import model.HybridRecommendationSystem as HR\n",
    "from model.ContentBasedRec import ContentBasedRecommender, get_CBMatrix\n",
    "from model.HybridRecommendationSystem import HybridRecommender, get_HRMatrix\n",
    "\n",
    "movie_df = pd.read_csv('./data/external/movies.csv')\n",
    "\n",
    "# pick a random user\n",
    "ratings = pd.read_csv('./data/processed/final_ratings.csv')\n",
    "print(len(ratings.userId.unique()))\n",
    "random_user = np.random.choice(ratings.userId.unique()) # picks a random user"
   ]
  },
  {
   "cell_type": "markdown",
   "id": "3850dcb1-281a-4bc2-a6f5-120c3cb0d5c7",
   "metadata": {
    "jp-MarkdownHeadingCollapsed": true,
    "tags": []
   },
   "source": [
    "## Preprocessing\n",
    "* Preprocessed data for both content-based and colloborative filtering systems.\n",
    "* Updates the precalculated dataframes."
   ]
  },
  {
   "cell_type": "code",
   "execution_count": 37,
   "id": "73a52e39-cb09-40d1-8aff-b9ed48bfac7e",
   "metadata": {},
   "outputs": [
    {
     "name": "stdout",
     "output_type": "stream",
     "text": [
      "Prerocessing for Collaborative Filtering Recommender...\n",
      "Creating raw dataframes...\n",
      "Creating dataframes with Sveta and Hamid ratings...\n",
      "Creating dataframes with anti-Sveta and anti-Hamid ratings...\n",
      "Creating new ratings dataframe for collaborative filtering ...\n",
      "Out of total of  138493  users,  64051  are considered lazy and will be removed.\n",
      "The final number of users is  74442\n",
      "Randomly choosing 1000 users...\n",
      "Adding Sviatlana's and Hamid's ratings... we are lazy users, but still...\n",
      "Sveta 's user id is 86968\n",
      "Hamid 's user id is 27844\n",
      "Adding anti-Sviatlana's and anti-Hamid's ratings... they are lazy users, but still...\n",
      "anti-Sveta 's user id is 8633\n",
      "anti-Hamid 's user id is 73687\n",
      "Now, the final number of users is  1004\n",
      "Filtering movies...\n",
      "Out of total of  9486  movies,  8863  are considered rare and will be removed.\n",
      "The final number of movies is  623\n",
      "Creating the pivot matrix...\n",
      "The resulting sparcity of the matrix is: 0.8019191292614454\n",
      "Preparing the final rating matrix...\n",
      "Data preprocesssing for collaborative filtering modeling is completed!\n"
     ]
    }
   ],
   "source": [
    "print(\"Prerocessing for Collaborative Filtering Recommender...\")\n",
    "from data_script.preprocess_collaborative import sveta_user_id, hamid_user_id\n",
    "# import clustering_collaborative #TODO"
   ]
  },
  {
   "cell_type": "code",
   "execution_count": 4,
   "id": "e854521d-60d2-4321-a79e-610231b75a5e",
   "metadata": {},
   "outputs": [],
   "source": [
    "#sveta_user_id, hamid_user_id # or use sveta and hamid's id (assigned randomly at the preprocessing step"
   ]
  },
  {
   "cell_type": "code",
   "execution_count": 5,
   "id": "8af59d7d-e2d6-4305-b0ee-1626df2a45c1",
   "metadata": {},
   "outputs": [
    {
     "name": "stdout",
     "output_type": "stream",
     "text": [
      "Prerocessing for Content-Based Recommender...\n"
     ]
    },
    {
     "name": "stderr",
     "output_type": "stream",
     "text": [
      "/home/mumu/Documents/DS/movie_recommendation_ProjectCDS/data_script/preprocess_content_based.py:93: FutureWarning: Using the level keyword in DataFrame and Series aggregations is deprecated and will be removed in a future version. Use groupby instead. df.sum(level=1) should use df.groupby(level=1).sum().\n",
      "  dummies = pd.get_dummies(df_movies.genres.apply(pd.Series).stack()).sum(level=0)\n"
     ]
    }
   ],
   "source": [
    "print(\"Prerocessing for Content-Based Recommender...\")\n",
    "from data_script.preprocess_content_based import get_df_ContBaseRec\n",
    "df_ContBaseRec = get_df_ContBaseRec()"
   ]
  },
  {
   "cell_type": "markdown",
   "id": "c92f3195-38f0-4718-8c87-68fcf6712159",
   "metadata": {
    "jp-MarkdownHeadingCollapsed": true,
    "tags": []
   },
   "source": [
    "## Train Nearest Neighbor CB model"
   ]
  },
  {
   "cell_type": "code",
   "execution_count": 2,
   "id": "e9d53d0a-7e79-4430-b970-817356022389",
   "metadata": {},
   "outputs": [],
   "source": [
    "nn = CBR.train_nearest_neighbors_model()"
   ]
  },
  {
   "cell_type": "markdown",
   "id": "dcb3cd16-f7cb-4f71-9ece-572f3a4cb63a",
   "metadata": {
    "jp-MarkdownHeadingCollapsed": true,
    "tags": []
   },
   "source": [
    "## Training and saving CF models"
   ]
  },
  {
   "cell_type": "code",
   "execution_count": 8,
   "id": "04b7066e-87d3-4bbe-bb11-b393db95cb14",
   "metadata": {},
   "outputs": [
    {
     "name": "stdout",
     "output_type": "stream",
     "text": [
      "Getting the ratings matrix...\n",
      "Preparing data in the Suprise format...\n",
      "Training and saving a KNN model for calculating the CF model weights in hybrid setup..\n",
      "Mean CV RMSE is 0.837\n",
      "Training KNN-based memory based model for hybrid...\n",
      "Computing the pearson similarity matrix...\n",
      "Done computing similarity matrix.\n",
      "Mean CV RMSE is 0.933\n",
      "Training is done!\n"
     ]
    }
   ],
   "source": [
    "trainset, testset, data, algo, algo_predictions, knn, knn_predictions = train_cf_models()"
   ]
  },
  {
   "cell_type": "markdown",
   "id": "25d2060d-4248-45a0-9d5a-066f34aaf3a1",
   "metadata": {
    "jp-MarkdownHeadingCollapsed": true,
    "tags": []
   },
   "source": [
    "## Content-based recommender"
   ]
  },
  {
   "cell_type": "code",
   "execution_count": 11,
   "id": "eb146178-33dd-4c5f-93ef-f930d20b255c",
   "metadata": {},
   "outputs": [],
   "source": [
    "cb_recommender = ContentBasedRecommender()"
   ]
  },
  {
   "cell_type": "code",
   "execution_count": null,
   "id": "6e2c3f09-05e5-4b87-afdd-9b85af9a482b",
   "metadata": {},
   "outputs": [],
   "source": [
    "# Run to recomputer the CBMatrix\n",
    "start_time = time.time()\n",
    "cb_recommendations = get_CBMatrix()\n",
    "end_time = time.time()\n",
    "elapsed_time = end_time - start_time\n",
    "print(\"Elapsed time: \", elapsed_time)\n",
    "cb_recommendations.head()"
   ]
  },
  {
   "cell_type": "code",
   "execution_count": 10,
   "id": "38d22247-c01a-46a2-8637-a868d60f9333",
   "metadata": {},
   "outputs": [
    {
     "data": {
      "text/html": [
       "<div>\n",
       "<style scoped>\n",
       "    .dataframe tbody tr th:only-of-type {\n",
       "        vertical-align: middle;\n",
       "    }\n",
       "\n",
       "    .dataframe tbody tr th {\n",
       "        vertical-align: top;\n",
       "    }\n",
       "\n",
       "    .dataframe thead th {\n",
       "        text-align: right;\n",
       "    }\n",
       "</style>\n",
       "<table border=\"1\" class=\"dataframe\">\n",
       "  <thead>\n",
       "    <tr style=\"text-align: right;\">\n",
       "      <th></th>\n",
       "      <th>userId</th>\n",
       "      <th>1</th>\n",
       "      <th>2</th>\n",
       "      <th>3</th>\n",
       "      <th>4</th>\n",
       "      <th>5</th>\n",
       "      <th>6</th>\n",
       "      <th>7</th>\n",
       "      <th>8</th>\n",
       "      <th>9</th>\n",
       "      <th>...</th>\n",
       "      <th>130075</th>\n",
       "      <th>130087</th>\n",
       "      <th>130490</th>\n",
       "      <th>130496</th>\n",
       "      <th>130520</th>\n",
       "      <th>130578</th>\n",
       "      <th>130840</th>\n",
       "      <th>131013</th>\n",
       "      <th>131168</th>\n",
       "      <th>131170</th>\n",
       "    </tr>\n",
       "  </thead>\n",
       "  <tbody>\n",
       "    <tr>\n",
       "      <th>0</th>\n",
       "      <td>73687</td>\n",
       "      <td>NaN</td>\n",
       "      <td>0.545045</td>\n",
       "      <td>0.665229</td>\n",
       "      <td>NaN</td>\n",
       "      <td>NaN</td>\n",
       "      <td>NaN</td>\n",
       "      <td>NaN</td>\n",
       "      <td>0.558663</td>\n",
       "      <td>0.538763</td>\n",
       "      <td>...</td>\n",
       "      <td>0.519058</td>\n",
       "      <td>NaN</td>\n",
       "      <td>0.449878</td>\n",
       "      <td>0.643524</td>\n",
       "      <td>0.496660</td>\n",
       "      <td>0.533135</td>\n",
       "      <td>0.613908</td>\n",
       "      <td>0.557084</td>\n",
       "      <td>0.649311</td>\n",
       "      <td>0.601671</td>\n",
       "    </tr>\n",
       "    <tr>\n",
       "      <th>1</th>\n",
       "      <td>8633</td>\n",
       "      <td>NaN</td>\n",
       "      <td>NaN</td>\n",
       "      <td>0.558319</td>\n",
       "      <td>NaN</td>\n",
       "      <td>NaN</td>\n",
       "      <td>0.807316</td>\n",
       "      <td>NaN</td>\n",
       "      <td>NaN</td>\n",
       "      <td>NaN</td>\n",
       "      <td>...</td>\n",
       "      <td>NaN</td>\n",
       "      <td>NaN</td>\n",
       "      <td>NaN</td>\n",
       "      <td>NaN</td>\n",
       "      <td>NaN</td>\n",
       "      <td>NaN</td>\n",
       "      <td>NaN</td>\n",
       "      <td>0.467845</td>\n",
       "      <td>0.655830</td>\n",
       "      <td>0.605724</td>\n",
       "    </tr>\n",
       "    <tr>\n",
       "      <th>2</th>\n",
       "      <td>27844</td>\n",
       "      <td>NaN</td>\n",
       "      <td>0.545045</td>\n",
       "      <td>0.665229</td>\n",
       "      <td>NaN</td>\n",
       "      <td>NaN</td>\n",
       "      <td>NaN</td>\n",
       "      <td>NaN</td>\n",
       "      <td>0.558663</td>\n",
       "      <td>0.538763</td>\n",
       "      <td>...</td>\n",
       "      <td>0.519058</td>\n",
       "      <td>NaN</td>\n",
       "      <td>0.449878</td>\n",
       "      <td>0.643524</td>\n",
       "      <td>0.496660</td>\n",
       "      <td>0.533135</td>\n",
       "      <td>0.613908</td>\n",
       "      <td>0.557084</td>\n",
       "      <td>0.649311</td>\n",
       "      <td>0.601671</td>\n",
       "    </tr>\n",
       "    <tr>\n",
       "      <th>3</th>\n",
       "      <td>86968</td>\n",
       "      <td>NaN</td>\n",
       "      <td>NaN</td>\n",
       "      <td>0.558319</td>\n",
       "      <td>NaN</td>\n",
       "      <td>NaN</td>\n",
       "      <td>0.807316</td>\n",
       "      <td>NaN</td>\n",
       "      <td>NaN</td>\n",
       "      <td>NaN</td>\n",
       "      <td>...</td>\n",
       "      <td>NaN</td>\n",
       "      <td>NaN</td>\n",
       "      <td>NaN</td>\n",
       "      <td>NaN</td>\n",
       "      <td>NaN</td>\n",
       "      <td>NaN</td>\n",
       "      <td>NaN</td>\n",
       "      <td>0.467845</td>\n",
       "      <td>0.655830</td>\n",
       "      <td>0.605724</td>\n",
       "    </tr>\n",
       "    <tr>\n",
       "      <th>4</th>\n",
       "      <td>186</td>\n",
       "      <td>NaN</td>\n",
       "      <td>0.753088</td>\n",
       "      <td>0.795874</td>\n",
       "      <td>0.730306</td>\n",
       "      <td>0.728662</td>\n",
       "      <td>0.639611</td>\n",
       "      <td>0.724683</td>\n",
       "      <td>0.721785</td>\n",
       "      <td>0.636189</td>\n",
       "      <td>...</td>\n",
       "      <td>0.666016</td>\n",
       "      <td>NaN</td>\n",
       "      <td>0.594067</td>\n",
       "      <td>0.723904</td>\n",
       "      <td>0.659503</td>\n",
       "      <td>0.593578</td>\n",
       "      <td>0.647815</td>\n",
       "      <td>0.630278</td>\n",
       "      <td>0.598122</td>\n",
       "      <td>0.645461</td>\n",
       "    </tr>\n",
       "  </tbody>\n",
       "</table>\n",
       "<p>5 rows × 10382 columns</p>\n",
       "</div>"
      ],
      "text/plain": [
       "   userId   1         2         3         4         5         6         7  \\\n",
       "0   73687 NaN  0.545045  0.665229       NaN       NaN       NaN       NaN   \n",
       "1    8633 NaN       NaN  0.558319       NaN       NaN  0.807316       NaN   \n",
       "2   27844 NaN  0.545045  0.665229       NaN       NaN       NaN       NaN   \n",
       "3   86968 NaN       NaN  0.558319       NaN       NaN  0.807316       NaN   \n",
       "4     186 NaN  0.753088  0.795874  0.730306  0.728662  0.639611  0.724683   \n",
       "\n",
       "          8         9  ...    130075  130087    130490    130496    130520  \\\n",
       "0  0.558663  0.538763  ...  0.519058     NaN  0.449878  0.643524  0.496660   \n",
       "1       NaN       NaN  ...       NaN     NaN       NaN       NaN       NaN   \n",
       "2  0.558663  0.538763  ...  0.519058     NaN  0.449878  0.643524  0.496660   \n",
       "3       NaN       NaN  ...       NaN     NaN       NaN       NaN       NaN   \n",
       "4  0.721785  0.636189  ...  0.666016     NaN  0.594067  0.723904  0.659503   \n",
       "\n",
       "     130578    130840    131013    131168    131170  \n",
       "0  0.533135  0.613908  0.557084  0.649311  0.601671  \n",
       "1       NaN       NaN  0.467845  0.655830  0.605724  \n",
       "2  0.533135  0.613908  0.557084  0.649311  0.601671  \n",
       "3       NaN       NaN  0.467845  0.655830  0.605724  \n",
       "4  0.593578  0.647815  0.630278  0.598122  0.645461  \n",
       "\n",
       "[5 rows x 10382 columns]"
      ]
     },
     "execution_count": 10,
     "metadata": {},
     "output_type": "execute_result"
    }
   ],
   "source": [
    "# Get the CBMatrix\n",
    "cb_recommender = ContentBasedRecommender()\n",
    "cb_recommendations = cb_recommender.df_recommendations\n",
    "cb_recommendations.head()"
   ]
  },
  {
   "cell_type": "code",
   "execution_count": 12,
   "id": "4ac328d2-94d6-4645-84d7-b7a6431b23cb",
   "metadata": {},
   "outputs": [
    {
     "data": {
      "text/html": [
       "<div>\n",
       "<style scoped>\n",
       "    .dataframe tbody tr th:only-of-type {\n",
       "        vertical-align: middle;\n",
       "    }\n",
       "\n",
       "    .dataframe tbody tr th {\n",
       "        vertical-align: top;\n",
       "    }\n",
       "\n",
       "    .dataframe thead th {\n",
       "        text-align: right;\n",
       "    }\n",
       "</style>\n",
       "<table border=\"1\" class=\"dataframe\">\n",
       "  <thead>\n",
       "    <tr style=\"text-align: right;\">\n",
       "      <th></th>\n",
       "      <th>movieId</th>\n",
       "      <th>score</th>\n",
       "      <th>title</th>\n",
       "      <th>genres</th>\n",
       "    </tr>\n",
       "  </thead>\n",
       "  <tbody>\n",
       "    <tr>\n",
       "      <th>0</th>\n",
       "      <td>678</td>\n",
       "      <td>0.916408</td>\n",
       "      <td>Some Folks Call It a Sling Blade (1993)</td>\n",
       "      <td>Drama|Thriller</td>\n",
       "    </tr>\n",
       "    <tr>\n",
       "      <th>1</th>\n",
       "      <td>1276</td>\n",
       "      <td>0.898239</td>\n",
       "      <td>Cool Hand Luke (1967)</td>\n",
       "      <td>Drama</td>\n",
       "    </tr>\n",
       "    <tr>\n",
       "      <th>2</th>\n",
       "      <td>3681</td>\n",
       "      <td>0.887929</td>\n",
       "      <td>For a Few Dollars More (Per qualche dollaro in...</td>\n",
       "      <td>Action|Drama|Thriller|Western</td>\n",
       "    </tr>\n",
       "    <tr>\n",
       "      <th>3</th>\n",
       "      <td>1209</td>\n",
       "      <td>0.882586</td>\n",
       "      <td>Once Upon a Time in the West (C'era una volta ...</td>\n",
       "      <td>Action|Drama|Western</td>\n",
       "    </tr>\n",
       "    <tr>\n",
       "      <th>4</th>\n",
       "      <td>8340</td>\n",
       "      <td>0.880683</td>\n",
       "      <td>Escape from Alcatraz (1979)</td>\n",
       "      <td>Drama|Thriller</td>\n",
       "    </tr>\n",
       "    <tr>\n",
       "      <th>5</th>\n",
       "      <td>104069</td>\n",
       "      <td>0.880032</td>\n",
       "      <td>Louis C.K.: Oh My God (2013)</td>\n",
       "      <td>Comedy</td>\n",
       "    </tr>\n",
       "    <tr>\n",
       "      <th>6</th>\n",
       "      <td>56782</td>\n",
       "      <td>0.879797</td>\n",
       "      <td>There Will Be Blood (2007)</td>\n",
       "      <td>Drama|Western</td>\n",
       "    </tr>\n",
       "    <tr>\n",
       "      <th>7</th>\n",
       "      <td>1358</td>\n",
       "      <td>0.878825</td>\n",
       "      <td>Sling Blade (1996)</td>\n",
       "      <td>Drama</td>\n",
       "    </tr>\n",
       "    <tr>\n",
       "      <th>8</th>\n",
       "      <td>1201</td>\n",
       "      <td>0.878284</td>\n",
       "      <td>Good, the Bad and the Ugly, The (Buono, il bru...</td>\n",
       "      <td>Action|Adventure|Western</td>\n",
       "    </tr>\n",
       "    <tr>\n",
       "      <th>9</th>\n",
       "      <td>2692</td>\n",
       "      <td>0.875562</td>\n",
       "      <td>Run Lola Run (Lola rennt) (1998)</td>\n",
       "      <td>Action|Crime</td>\n",
       "    </tr>\n",
       "    <tr>\n",
       "      <th>10</th>\n",
       "      <td>7981</td>\n",
       "      <td>0.875275</td>\n",
       "      <td>Infernal Affairs (Mou gaan dou) (2002)</td>\n",
       "      <td>Crime|Drama|Thriller</td>\n",
       "    </tr>\n",
       "    <tr>\n",
       "      <th>11</th>\n",
       "      <td>4406</td>\n",
       "      <td>0.873669</td>\n",
       "      <td>Man Who Shot Liberty Valance, The (1962)</td>\n",
       "      <td>Crime|Drama|Western</td>\n",
       "    </tr>\n",
       "    <tr>\n",
       "      <th>12</th>\n",
       "      <td>1303</td>\n",
       "      <td>0.873090</td>\n",
       "      <td>Man Who Would Be King, The (1975)</td>\n",
       "      <td>Adventure|Drama</td>\n",
       "    </tr>\n",
       "    <tr>\n",
       "      <th>13</th>\n",
       "      <td>1266</td>\n",
       "      <td>0.872539</td>\n",
       "      <td>Unforgiven (1992)</td>\n",
       "      <td>Drama|Western</td>\n",
       "    </tr>\n",
       "    <tr>\n",
       "      <th>14</th>\n",
       "      <td>116897</td>\n",
       "      <td>0.871444</td>\n",
       "      <td>Wild Tales (2014)</td>\n",
       "      <td>Comedy|Drama|Thriller</td>\n",
       "    </tr>\n",
       "    <tr>\n",
       "      <th>15</th>\n",
       "      <td>38095</td>\n",
       "      <td>0.870350</td>\n",
       "      <td>Bittersweet Life, A (Dalkomhan insaeng) (2005)</td>\n",
       "      <td>Action|Crime|Drama</td>\n",
       "    </tr>\n",
       "    <tr>\n",
       "      <th>16</th>\n",
       "      <td>1213</td>\n",
       "      <td>0.869991</td>\n",
       "      <td>Goodfellas (1990)</td>\n",
       "      <td>Crime|Drama</td>\n",
       "    </tr>\n",
       "    <tr>\n",
       "      <th>17</th>\n",
       "      <td>1218</td>\n",
       "      <td>0.869665</td>\n",
       "      <td>Killer, The (Die xue shuang xiong) (1989)</td>\n",
       "      <td>Action|Crime|Drama|Thriller</td>\n",
       "    </tr>\n",
       "    <tr>\n",
       "      <th>18</th>\n",
       "      <td>86345</td>\n",
       "      <td>0.869108</td>\n",
       "      <td>Louis C.K.: Hilarious (2010)</td>\n",
       "      <td>Comedy</td>\n",
       "    </tr>\n",
       "    <tr>\n",
       "      <th>19</th>\n",
       "      <td>1228</td>\n",
       "      <td>0.868075</td>\n",
       "      <td>Raging Bull (1980)</td>\n",
       "      <td>Drama</td>\n",
       "    </tr>\n",
       "  </tbody>\n",
       "</table>\n",
       "</div>"
      ],
      "text/plain": [
       "    movieId     score                                              title  \\\n",
       "0       678  0.916408            Some Folks Call It a Sling Blade (1993)   \n",
       "1      1276  0.898239                              Cool Hand Luke (1967)   \n",
       "2      3681  0.887929  For a Few Dollars More (Per qualche dollaro in...   \n",
       "3      1209  0.882586  Once Upon a Time in the West (C'era una volta ...   \n",
       "4      8340  0.880683                        Escape from Alcatraz (1979)   \n",
       "5    104069  0.880032                       Louis C.K.: Oh My God (2013)   \n",
       "6     56782  0.879797                         There Will Be Blood (2007)   \n",
       "7      1358  0.878825                                 Sling Blade (1996)   \n",
       "8      1201  0.878284  Good, the Bad and the Ugly, The (Buono, il bru...   \n",
       "9      2692  0.875562                   Run Lola Run (Lola rennt) (1998)   \n",
       "10     7981  0.875275             Infernal Affairs (Mou gaan dou) (2002)   \n",
       "11     4406  0.873669           Man Who Shot Liberty Valance, The (1962)   \n",
       "12     1303  0.873090                  Man Who Would Be King, The (1975)   \n",
       "13     1266  0.872539                                  Unforgiven (1992)   \n",
       "14   116897  0.871444                                  Wild Tales (2014)   \n",
       "15    38095  0.870350     Bittersweet Life, A (Dalkomhan insaeng) (2005)   \n",
       "16     1213  0.869991                                  Goodfellas (1990)   \n",
       "17     1218  0.869665          Killer, The (Die xue shuang xiong) (1989)   \n",
       "18    86345  0.869108                       Louis C.K.: Hilarious (2010)   \n",
       "19     1228  0.868075                                 Raging Bull (1980)   \n",
       "\n",
       "                           genres  \n",
       "0                  Drama|Thriller  \n",
       "1                           Drama  \n",
       "2   Action|Drama|Thriller|Western  \n",
       "3            Action|Drama|Western  \n",
       "4                  Drama|Thriller  \n",
       "5                          Comedy  \n",
       "6                   Drama|Western  \n",
       "7                           Drama  \n",
       "8        Action|Adventure|Western  \n",
       "9                    Action|Crime  \n",
       "10           Crime|Drama|Thriller  \n",
       "11            Crime|Drama|Western  \n",
       "12                Adventure|Drama  \n",
       "13                  Drama|Western  \n",
       "14          Comedy|Drama|Thriller  \n",
       "15             Action|Crime|Drama  \n",
       "16                    Crime|Drama  \n",
       "17    Action|Crime|Drama|Thriller  \n",
       "18                         Comedy  \n",
       "19                          Drama  "
      ]
     },
     "execution_count": 12,
     "metadata": {},
     "output_type": "execute_result"
    }
   ],
   "source": [
    "userId = 86968\n",
    "cb_recommender.recommendation(userId, 20)"
   ]
  },
  {
   "cell_type": "code",
   "execution_count": 18,
   "id": "3ffcb85b-e4c1-48cb-a59a-9b9c01c8a301",
   "metadata": {},
   "outputs": [
    {
     "name": "stdout",
     "output_type": "stream",
     "text": [
      "1004\n"
     ]
    }
   ],
   "source": [
    "#since the final rating and cb_recommendation matrix do reset_indexve the same set of users, we can only test the \n",
    "set_of_test_users = set(cb_recommendations.userId.values).intersection(set(ratings.userId.unique()))\n",
    "print(len(set_of_test_users))"
   ]
  },
  {
   "cell_type": "markdown",
   "id": "2921b78a-6a58-4fcf-b947-710af3f5495d",
   "metadata": {
    "jp-MarkdownHeadingCollapsed": true,
    "tags": []
   },
   "source": [
    "## User-based colloborative filtering recommender"
   ]
  },
  {
   "cell_type": "code",
   "execution_count": 3,
   "id": "ff8a1a4b-0221-4c61-b462-1f231ac12660",
   "metadata": {},
   "outputs": [],
   "source": [
    "cf_model = CFR.CollaborativeFilteringRecommender()"
   ]
  },
  {
   "cell_type": "code",
   "execution_count": 12,
   "id": "52a664cf-f071-4e9e-a75c-3bf0d6d6f539",
   "metadata": {},
   "outputs": [
    {
     "data": {
      "text/html": [
       "<div>\n",
       "<style scoped>\n",
       "    .dataframe tbody tr th:only-of-type {\n",
       "        vertical-align: middle;\n",
       "    }\n",
       "\n",
       "    .dataframe tbody tr th {\n",
       "        vertical-align: top;\n",
       "    }\n",
       "\n",
       "    .dataframe thead th {\n",
       "        text-align: right;\n",
       "    }\n",
       "</style>\n",
       "<table border=\"1\" class=\"dataframe\">\n",
       "  <thead>\n",
       "    <tr style=\"text-align: right;\">\n",
       "      <th></th>\n",
       "      <th>Unnamed: 0</th>\n",
       "      <th>userId</th>\n",
       "      <th>movieId</th>\n",
       "      <th>rating</th>\n",
       "      <th>cf_score</th>\n",
       "      <th>title</th>\n",
       "      <th>genres</th>\n",
       "    </tr>\n",
       "  </thead>\n",
       "  <tbody>\n",
       "    <tr>\n",
       "      <th>0</th>\n",
       "      <td>0</td>\n",
       "      <td>65368</td>\n",
       "      <td>1200</td>\n",
       "      <td>4.740854</td>\n",
       "      <td>0.942412</td>\n",
       "      <td>Aliens (1986)</td>\n",
       "      <td>Action|Adventure|Horror|Sci-Fi</td>\n",
       "    </tr>\n",
       "    <tr>\n",
       "      <th>1</th>\n",
       "      <td>1</td>\n",
       "      <td>65368</td>\n",
       "      <td>904</td>\n",
       "      <td>4.676829</td>\n",
       "      <td>0.928184</td>\n",
       "      <td>Rear Window (1954)</td>\n",
       "      <td>Mystery|Thriller</td>\n",
       "    </tr>\n",
       "    <tr>\n",
       "      <th>2</th>\n",
       "      <td>2</td>\n",
       "      <td>65368</td>\n",
       "      <td>1197</td>\n",
       "      <td>4.571296</td>\n",
       "      <td>0.904733</td>\n",
       "      <td>Princess Bride, The (1987)</td>\n",
       "      <td>Action|Adventure|Comedy|Fantasy|Romance</td>\n",
       "    </tr>\n",
       "    <tr>\n",
       "      <th>3</th>\n",
       "      <td>3</td>\n",
       "      <td>65368</td>\n",
       "      <td>1252</td>\n",
       "      <td>4.510143</td>\n",
       "      <td>0.891143</td>\n",
       "      <td>Chinatown (1974)</td>\n",
       "      <td>Crime|Film-Noir|Mystery|Thriller</td>\n",
       "    </tr>\n",
       "    <tr>\n",
       "      <th>4</th>\n",
       "      <td>4</td>\n",
       "      <td>65368</td>\n",
       "      <td>246</td>\n",
       "      <td>4.462841</td>\n",
       "      <td>0.880631</td>\n",
       "      <td>Hoop Dreams (1994)</td>\n",
       "      <td>Documentary</td>\n",
       "    </tr>\n",
       "    <tr>\n",
       "      <th>5</th>\n",
       "      <td>5</td>\n",
       "      <td>65368</td>\n",
       "      <td>58559</td>\n",
       "      <td>4.430358</td>\n",
       "      <td>0.873413</td>\n",
       "      <td>Dark Knight, The (2008)</td>\n",
       "      <td>Action|Crime|Drama|IMAX</td>\n",
       "    </tr>\n",
       "    <tr>\n",
       "      <th>6</th>\n",
       "      <td>6</td>\n",
       "      <td>65368</td>\n",
       "      <td>2248</td>\n",
       "      <td>4.408354</td>\n",
       "      <td>0.868523</td>\n",
       "      <td>Say Anything... (1989)</td>\n",
       "      <td>Comedy|Drama|Romance</td>\n",
       "    </tr>\n",
       "    <tr>\n",
       "      <th>7</th>\n",
       "      <td>7</td>\n",
       "      <td>65368</td>\n",
       "      <td>3671</td>\n",
       "      <td>4.406336</td>\n",
       "      <td>0.868075</td>\n",
       "      <td>Blazing Saddles (1974)</td>\n",
       "      <td>Comedy|Western</td>\n",
       "    </tr>\n",
       "    <tr>\n",
       "      <th>8</th>\n",
       "      <td>8</td>\n",
       "      <td>65368</td>\n",
       "      <td>1262</td>\n",
       "      <td>4.399502</td>\n",
       "      <td>0.866556</td>\n",
       "      <td>Great Escape, The (1963)</td>\n",
       "      <td>Action|Adventure|Drama|War</td>\n",
       "    </tr>\n",
       "    <tr>\n",
       "      <th>9</th>\n",
       "      <td>9</td>\n",
       "      <td>65368</td>\n",
       "      <td>778</td>\n",
       "      <td>4.393952</td>\n",
       "      <td>0.865323</td>\n",
       "      <td>Trainspotting (1996)</td>\n",
       "      <td>Comedy|Crime|Drama</td>\n",
       "    </tr>\n",
       "    <tr>\n",
       "      <th>10</th>\n",
       "      <td>10</td>\n",
       "      <td>65368</td>\n",
       "      <td>912</td>\n",
       "      <td>4.388981</td>\n",
       "      <td>0.864218</td>\n",
       "      <td>Casablanca (1942)</td>\n",
       "      <td>Drama|Romance</td>\n",
       "    </tr>\n",
       "    <tr>\n",
       "      <th>11</th>\n",
       "      <td>11</td>\n",
       "      <td>65368</td>\n",
       "      <td>1617</td>\n",
       "      <td>4.377792</td>\n",
       "      <td>0.861732</td>\n",
       "      <td>L.A. Confidential (1997)</td>\n",
       "      <td>Crime|Film-Noir|Mystery|Thriller</td>\n",
       "    </tr>\n",
       "    <tr>\n",
       "      <th>12</th>\n",
       "      <td>12</td>\n",
       "      <td>65368</td>\n",
       "      <td>1267</td>\n",
       "      <td>4.374999</td>\n",
       "      <td>0.861111</td>\n",
       "      <td>Manchurian Candidate, The (1962)</td>\n",
       "      <td>Crime|Thriller|War</td>\n",
       "    </tr>\n",
       "    <tr>\n",
       "      <th>13</th>\n",
       "      <td>13</td>\n",
       "      <td>65368</td>\n",
       "      <td>318</td>\n",
       "      <td>4.373528</td>\n",
       "      <td>0.860784</td>\n",
       "      <td>Shawshank Redemption, The (1994)</td>\n",
       "      <td>Crime|Drama</td>\n",
       "    </tr>\n",
       "    <tr>\n",
       "      <th>14</th>\n",
       "      <td>14</td>\n",
       "      <td>65368</td>\n",
       "      <td>223</td>\n",
       "      <td>4.366864</td>\n",
       "      <td>0.859303</td>\n",
       "      <td>Clerks (1994)</td>\n",
       "      <td>Comedy</td>\n",
       "    </tr>\n",
       "    <tr>\n",
       "      <th>15</th>\n",
       "      <td>15</td>\n",
       "      <td>65368</td>\n",
       "      <td>1265</td>\n",
       "      <td>4.364125</td>\n",
       "      <td>0.858694</td>\n",
       "      <td>Groundhog Day (1993)</td>\n",
       "      <td>Comedy|Fantasy|Romance</td>\n",
       "    </tr>\n",
       "    <tr>\n",
       "      <th>16</th>\n",
       "      <td>16</td>\n",
       "      <td>65368</td>\n",
       "      <td>2918</td>\n",
       "      <td>4.352554</td>\n",
       "      <td>0.856123</td>\n",
       "      <td>Ferris Bueller's Day Off (1986)</td>\n",
       "      <td>Comedy</td>\n",
       "    </tr>\n",
       "    <tr>\n",
       "      <th>17</th>\n",
       "      <td>17</td>\n",
       "      <td>65368</td>\n",
       "      <td>908</td>\n",
       "      <td>4.348518</td>\n",
       "      <td>0.855226</td>\n",
       "      <td>North by Northwest (1959)</td>\n",
       "      <td>Action|Adventure|Mystery|Romance|Thriller</td>\n",
       "    </tr>\n",
       "    <tr>\n",
       "      <th>18</th>\n",
       "      <td>18</td>\n",
       "      <td>65368</td>\n",
       "      <td>750</td>\n",
       "      <td>4.335078</td>\n",
       "      <td>0.852239</td>\n",
       "      <td>Dr. Strangelove or: How I Learned to Stop Worr...</td>\n",
       "      <td>Comedy|War</td>\n",
       "    </tr>\n",
       "    <tr>\n",
       "      <th>19</th>\n",
       "      <td>19</td>\n",
       "      <td>65368</td>\n",
       "      <td>1172</td>\n",
       "      <td>4.334808</td>\n",
       "      <td>0.852180</td>\n",
       "      <td>Cinema Paradiso (Nuovo cinema Paradiso) (1989)</td>\n",
       "      <td>Drama</td>\n",
       "    </tr>\n",
       "  </tbody>\n",
       "</table>\n",
       "</div>"
      ],
      "text/plain": [
       "    Unnamed: 0  userId  movieId    rating  cf_score  \\\n",
       "0            0   65368     1200  4.740854  0.942412   \n",
       "1            1   65368      904  4.676829  0.928184   \n",
       "2            2   65368     1197  4.571296  0.904733   \n",
       "3            3   65368     1252  4.510143  0.891143   \n",
       "4            4   65368      246  4.462841  0.880631   \n",
       "5            5   65368    58559  4.430358  0.873413   \n",
       "6            6   65368     2248  4.408354  0.868523   \n",
       "7            7   65368     3671  4.406336  0.868075   \n",
       "8            8   65368     1262  4.399502  0.866556   \n",
       "9            9   65368      778  4.393952  0.865323   \n",
       "10          10   65368      912  4.388981  0.864218   \n",
       "11          11   65368     1617  4.377792  0.861732   \n",
       "12          12   65368     1267  4.374999  0.861111   \n",
       "13          13   65368      318  4.373528  0.860784   \n",
       "14          14   65368      223  4.366864  0.859303   \n",
       "15          15   65368     1265  4.364125  0.858694   \n",
       "16          16   65368     2918  4.352554  0.856123   \n",
       "17          17   65368      908  4.348518  0.855226   \n",
       "18          18   65368      750  4.335078  0.852239   \n",
       "19          19   65368     1172  4.334808  0.852180   \n",
       "\n",
       "                                                title  \\\n",
       "0                                       Aliens (1986)   \n",
       "1                                  Rear Window (1954)   \n",
       "2                          Princess Bride, The (1987)   \n",
       "3                                    Chinatown (1974)   \n",
       "4                                  Hoop Dreams (1994)   \n",
       "5                             Dark Knight, The (2008)   \n",
       "6                              Say Anything... (1989)   \n",
       "7                              Blazing Saddles (1974)   \n",
       "8                            Great Escape, The (1963)   \n",
       "9                                Trainspotting (1996)   \n",
       "10                                  Casablanca (1942)   \n",
       "11                           L.A. Confidential (1997)   \n",
       "12                   Manchurian Candidate, The (1962)   \n",
       "13                   Shawshank Redemption, The (1994)   \n",
       "14                                      Clerks (1994)   \n",
       "15                               Groundhog Day (1993)   \n",
       "16                    Ferris Bueller's Day Off (1986)   \n",
       "17                          North by Northwest (1959)   \n",
       "18  Dr. Strangelove or: How I Learned to Stop Worr...   \n",
       "19     Cinema Paradiso (Nuovo cinema Paradiso) (1989)   \n",
       "\n",
       "                                       genres  \n",
       "0              Action|Adventure|Horror|Sci-Fi  \n",
       "1                            Mystery|Thriller  \n",
       "2     Action|Adventure|Comedy|Fantasy|Romance  \n",
       "3            Crime|Film-Noir|Mystery|Thriller  \n",
       "4                                 Documentary  \n",
       "5                     Action|Crime|Drama|IMAX  \n",
       "6                        Comedy|Drama|Romance  \n",
       "7                              Comedy|Western  \n",
       "8                  Action|Adventure|Drama|War  \n",
       "9                          Comedy|Crime|Drama  \n",
       "10                              Drama|Romance  \n",
       "11           Crime|Film-Noir|Mystery|Thriller  \n",
       "12                         Crime|Thriller|War  \n",
       "13                                Crime|Drama  \n",
       "14                                     Comedy  \n",
       "15                     Comedy|Fantasy|Romance  \n",
       "16                                     Comedy  \n",
       "17  Action|Adventure|Mystery|Romance|Thriller  \n",
       "18                                 Comedy|War  \n",
       "19                                      Drama  "
      ]
     },
     "execution_count": 12,
     "metadata": {},
     "output_type": "execute_result"
    }
   ],
   "source": [
    "random_user = np.random.choice(ratings.userId.unique()) # picks a random user\n",
    "cf_model.recommend(random_user, 20).merge(movie_df, on='movieId', how='left')"
   ]
  },
  {
   "cell_type": "markdown",
   "id": "4a22b4d1-c32b-45be-9248-50a9e72a6cb1",
   "metadata": {
    "jp-MarkdownHeadingCollapsed": true,
    "tags": []
   },
   "source": [
    "## Hybrid recommender"
   ]
  },
  {
   "cell_type": "code",
   "execution_count": 2,
   "id": "1c1eb5cc-3076-498d-86a6-e321ffe06ace",
   "metadata": {},
   "outputs": [
    {
     "name": "stdout",
     "output_type": "stream",
     "text": [
      "Getting the ratings matrix...\n",
      "Preparing data in the Suprise format...\n",
      "Computing the pearson similarity matrix...\n",
      "Done computing similarity matrix.\n"
     ]
    }
   ],
   "source": [
    "hyb_recommender = HybridRecommender()"
   ]
  },
  {
   "cell_type": "code",
   "execution_count": null,
   "id": "e58b61ff-8461-458c-89d5-44a7c5ff2153",
   "metadata": {},
   "outputs": [],
   "source": [
    "# Run to recomputer the HRMatrix\n",
    "start_time = time.time()\n",
    "hyb_recommendations = get_HRMatrix()\n",
    "end_time = time.time()\n",
    "elapsed_time = end_time - start_time\n",
    "print(\"Elapsed time: \", elapsed_time)\n",
    "hyb_recommendations.head()"
   ]
  },
  {
   "cell_type": "code",
   "execution_count": 9,
   "id": "aab92678-45c0-4c5f-8006-233272a5043a",
   "metadata": {},
   "outputs": [
    {
     "data": {
      "text/html": [
       "<div>\n",
       "<style scoped>\n",
       "    .dataframe tbody tr th:only-of-type {\n",
       "        vertical-align: middle;\n",
       "    }\n",
       "\n",
       "    .dataframe tbody tr th {\n",
       "        vertical-align: top;\n",
       "    }\n",
       "\n",
       "    .dataframe thead th {\n",
       "        text-align: right;\n",
       "    }\n",
       "</style>\n",
       "<table border=\"1\" class=\"dataframe\">\n",
       "  <thead>\n",
       "    <tr style=\"text-align: right;\">\n",
       "      <th></th>\n",
       "      <th>userId</th>\n",
       "      <th>1</th>\n",
       "      <th>2</th>\n",
       "      <th>3</th>\n",
       "      <th>4</th>\n",
       "      <th>5</th>\n",
       "      <th>6</th>\n",
       "      <th>7</th>\n",
       "      <th>8</th>\n",
       "      <th>9</th>\n",
       "      <th>...</th>\n",
       "      <th>130075</th>\n",
       "      <th>130087</th>\n",
       "      <th>130490</th>\n",
       "      <th>130496</th>\n",
       "      <th>130520</th>\n",
       "      <th>130578</th>\n",
       "      <th>130840</th>\n",
       "      <th>131013</th>\n",
       "      <th>131168</th>\n",
       "      <th>131170</th>\n",
       "    </tr>\n",
       "  </thead>\n",
       "  <tbody>\n",
       "    <tr>\n",
       "      <th>0</th>\n",
       "      <td>73687</td>\n",
       "      <td>NaN</td>\n",
       "      <td>0.578596</td>\n",
       "      <td>0.698370</td>\n",
       "      <td>NaN</td>\n",
       "      <td>NaN</td>\n",
       "      <td>NaN</td>\n",
       "      <td>NaN</td>\n",
       "      <td>NaN</td>\n",
       "      <td>NaN</td>\n",
       "      <td>...</td>\n",
       "      <td>NaN</td>\n",
       "      <td>NaN</td>\n",
       "      <td>NaN</td>\n",
       "      <td>NaN</td>\n",
       "      <td>NaN</td>\n",
       "      <td>NaN</td>\n",
       "      <td>NaN</td>\n",
       "      <td>NaN</td>\n",
       "      <td>NaN</td>\n",
       "      <td>NaN</td>\n",
       "    </tr>\n",
       "    <tr>\n",
       "      <th>1</th>\n",
       "      <td>8633</td>\n",
       "      <td>NaN</td>\n",
       "      <td>NaN</td>\n",
       "      <td>0.621519</td>\n",
       "      <td>NaN</td>\n",
       "      <td>NaN</td>\n",
       "      <td>0.879630</td>\n",
       "      <td>NaN</td>\n",
       "      <td>NaN</td>\n",
       "      <td>NaN</td>\n",
       "      <td>...</td>\n",
       "      <td>NaN</td>\n",
       "      <td>NaN</td>\n",
       "      <td>NaN</td>\n",
       "      <td>NaN</td>\n",
       "      <td>NaN</td>\n",
       "      <td>NaN</td>\n",
       "      <td>NaN</td>\n",
       "      <td>NaN</td>\n",
       "      <td>NaN</td>\n",
       "      <td>NaN</td>\n",
       "    </tr>\n",
       "    <tr>\n",
       "      <th>2</th>\n",
       "      <td>27844</td>\n",
       "      <td>NaN</td>\n",
       "      <td>0.727339</td>\n",
       "      <td>0.857257</td>\n",
       "      <td>NaN</td>\n",
       "      <td>NaN</td>\n",
       "      <td>NaN</td>\n",
       "      <td>NaN</td>\n",
       "      <td>NaN</td>\n",
       "      <td>NaN</td>\n",
       "      <td>...</td>\n",
       "      <td>NaN</td>\n",
       "      <td>NaN</td>\n",
       "      <td>NaN</td>\n",
       "      <td>NaN</td>\n",
       "      <td>NaN</td>\n",
       "      <td>NaN</td>\n",
       "      <td>NaN</td>\n",
       "      <td>NaN</td>\n",
       "      <td>NaN</td>\n",
       "      <td>NaN</td>\n",
       "    </tr>\n",
       "    <tr>\n",
       "      <th>3</th>\n",
       "      <td>86968</td>\n",
       "      <td>NaN</td>\n",
       "      <td>NaN</td>\n",
       "      <td>0.658183</td>\n",
       "      <td>NaN</td>\n",
       "      <td>NaN</td>\n",
       "      <td>0.952319</td>\n",
       "      <td>NaN</td>\n",
       "      <td>NaN</td>\n",
       "      <td>NaN</td>\n",
       "      <td>...</td>\n",
       "      <td>NaN</td>\n",
       "      <td>NaN</td>\n",
       "      <td>NaN</td>\n",
       "      <td>NaN</td>\n",
       "      <td>NaN</td>\n",
       "      <td>NaN</td>\n",
       "      <td>NaN</td>\n",
       "      <td>NaN</td>\n",
       "      <td>NaN</td>\n",
       "      <td>NaN</td>\n",
       "    </tr>\n",
       "    <tr>\n",
       "      <th>4</th>\n",
       "      <td>186</td>\n",
       "      <td>NaN</td>\n",
       "      <td>0.807884</td>\n",
       "      <td>0.843629</td>\n",
       "      <td>NaN</td>\n",
       "      <td>0.777431</td>\n",
       "      <td>0.699742</td>\n",
       "      <td>0.779235</td>\n",
       "      <td>NaN</td>\n",
       "      <td>NaN</td>\n",
       "      <td>...</td>\n",
       "      <td>NaN</td>\n",
       "      <td>NaN</td>\n",
       "      <td>NaN</td>\n",
       "      <td>NaN</td>\n",
       "      <td>NaN</td>\n",
       "      <td>NaN</td>\n",
       "      <td>NaN</td>\n",
       "      <td>NaN</td>\n",
       "      <td>NaN</td>\n",
       "      <td>NaN</td>\n",
       "    </tr>\n",
       "  </tbody>\n",
       "</table>\n",
       "<p>5 rows × 10382 columns</p>\n",
       "</div>"
      ],
      "text/plain": [
       "   userId   1         2         3   4         5         6         7   8   9  \\\n",
       "0   73687 NaN  0.578596  0.698370 NaN       NaN       NaN       NaN NaN NaN   \n",
       "1    8633 NaN       NaN  0.621519 NaN       NaN  0.879630       NaN NaN NaN   \n",
       "2   27844 NaN  0.727339  0.857257 NaN       NaN       NaN       NaN NaN NaN   \n",
       "3   86968 NaN       NaN  0.658183 NaN       NaN  0.952319       NaN NaN NaN   \n",
       "4     186 NaN  0.807884  0.843629 NaN  0.777431  0.699742  0.779235 NaN NaN   \n",
       "\n",
       "   ...  130075  130087  130490  130496  130520  130578  130840  131013  \\\n",
       "0  ...     NaN     NaN     NaN     NaN     NaN     NaN     NaN     NaN   \n",
       "1  ...     NaN     NaN     NaN     NaN     NaN     NaN     NaN     NaN   \n",
       "2  ...     NaN     NaN     NaN     NaN     NaN     NaN     NaN     NaN   \n",
       "3  ...     NaN     NaN     NaN     NaN     NaN     NaN     NaN     NaN   \n",
       "4  ...     NaN     NaN     NaN     NaN     NaN     NaN     NaN     NaN   \n",
       "\n",
       "   131168  131170  \n",
       "0     NaN     NaN  \n",
       "1     NaN     NaN  \n",
       "2     NaN     NaN  \n",
       "3     NaN     NaN  \n",
       "4     NaN     NaN  \n",
       "\n",
       "[5 rows x 10382 columns]"
      ]
     },
     "execution_count": 9,
     "metadata": {},
     "output_type": "execute_result"
    }
   ],
   "source": [
    "# Get the HRMatrix\n",
    "hyb_recommendations = hyb_recommender.df_recommendations\n",
    "hyb_recommendations.head()"
   ]
  },
  {
   "cell_type": "code",
   "execution_count": 10,
   "id": "79ed8af4-cb22-477e-87d5-dcb06dbf2f7d",
   "metadata": {},
   "outputs": [
    {
     "data": {
      "text/html": [
       "<div>\n",
       "<style scoped>\n",
       "    .dataframe tbody tr th:only-of-type {\n",
       "        vertical-align: middle;\n",
       "    }\n",
       "\n",
       "    .dataframe tbody tr th {\n",
       "        vertical-align: top;\n",
       "    }\n",
       "\n",
       "    .dataframe thead th {\n",
       "        text-align: right;\n",
       "    }\n",
       "</style>\n",
       "<table border=\"1\" class=\"dataframe\">\n",
       "  <thead>\n",
       "    <tr style=\"text-align: right;\">\n",
       "      <th></th>\n",
       "      <th>movieId</th>\n",
       "      <th>hybrid_score</th>\n",
       "      <th>title</th>\n",
       "      <th>genres</th>\n",
       "    </tr>\n",
       "  </thead>\n",
       "  <tbody>\n",
       "    <tr>\n",
       "      <th>0</th>\n",
       "      <td>2804</td>\n",
       "      <td>0.898999</td>\n",
       "      <td>Christmas Story, A (1983)</td>\n",
       "      <td>Children|Comedy</td>\n",
       "    </tr>\n",
       "    <tr>\n",
       "      <th>1</th>\n",
       "      <td>1302</td>\n",
       "      <td>0.886882</td>\n",
       "      <td>Field of Dreams (1989)</td>\n",
       "      <td>Children|Drama|Fantasy</td>\n",
       "    </tr>\n",
       "  </tbody>\n",
       "</table>\n",
       "</div>"
      ],
      "text/plain": [
       "   movieId  hybrid_score                      title                  genres\n",
       "0     2804      0.898999  Christmas Story, A (1983)         Children|Comedy\n",
       "1     1302      0.886882     Field of Dreams (1989)  Children|Drama|Fantasy"
      ]
     },
     "execution_count": 10,
     "metadata": {},
     "output_type": "execute_result"
    }
   ],
   "source": [
    "userId = 186\n",
    "hyb_recommender.hybrid_recommendation(userId, 2)"
   ]
  },
  {
   "cell_type": "code",
   "execution_count": 19,
   "id": "49027a26-cfd0-4c88-b17e-a14b7aedb5fd",
   "metadata": {},
   "outputs": [
    {
     "name": "stdout",
     "output_type": "stream",
     "text": [
      "1000\n"
     ]
    },
    {
     "data": {
      "text/plain": [
       "True"
      ]
     },
     "execution_count": 19,
     "metadata": {},
     "output_type": "execute_result"
    }
   ],
   "source": [
    "#since the final rating and cb_recommendation matrix do not have the same set of users, we can only test the \n",
    "set_of_test_users = set(hyb_recommendations.userId.values).intersection(set(hyb_recommendations.userId.values))\n",
    "print(len(set_of_test_users))\n",
    "\n",
    "27844 in set(hyb_recommendations.userId.values)"
   ]
  },
  {
   "cell_type": "markdown",
   "id": "7f54a6cc-5301-4d92-b2d3-81a0e9c23035",
   "metadata": {},
   "source": [
    "# Evaluation of the different recommenders\n"
   ]
  },
  {
   "cell_type": "markdown",
   "id": "68c36369-2d23-4faf-82f7-6796fee76035",
   "metadata": {
    "jp-MarkdownHeadingCollapsed": true,
    "tags": []
   },
   "source": [
    "## Accuracy of the collaborative system\n",
    "* metrics: rmse\n",
    "* method: cross-validation\n"
   ]
  },
  {
   "cell_type": "code",
   "execution_count": 4,
   "id": "7c7aa502-2447-4146-853b-56fab3d2927d",
   "metadata": {},
   "outputs": [
    {
     "name": "stdout",
     "output_type": "stream",
     "text": [
      "Getting the ratings matrix...\n",
      "Preparing data in the Suprise format...\n",
      "Done calculating predictions and scores!\n",
      "Cross Validating the data...\n",
      "Mean CV RMSE is 0.832\n"
     ]
    },
    {
     "data": {
      "text/plain": [
       "0.832"
      ]
     },
     "execution_count": 4,
     "metadata": {},
     "output_type": "execute_result"
    }
   ],
   "source": [
    "cf_model.fit_and_predict()\n",
    "cf_model.cross_validate()"
   ]
  },
  {
   "cell_type": "markdown",
   "id": "daf110d7-a91b-4785-88b7-f286966903d0",
   "metadata": {
    "jp-MarkdownHeadingCollapsed": true,
    "tags": []
   },
   "source": [
    "## Variety\n",
    "The measure represents the averaged percentage of all the movies recommended to all the users (1 corresponds to 100%)."
   ]
  },
  {
   "cell_type": "code",
   "execution_count": 3,
   "id": "3db4e5b0-0cb7-400c-ad1c-3b90a2630d0f",
   "metadata": {},
   "outputs": [
    {
     "name": "stdout",
     "output_type": "stream",
     "text": [
      "Getting the ratings matrix...\n",
      "Preparing data in the Suprise format...\n",
      "Computing the pearson similarity matrix...\n",
      "Done computing similarity matrix.\n"
     ]
    }
   ],
   "source": [
    "Evaluate = Evaluate()"
   ]
  },
  {
   "cell_type": "code",
   "execution_count": 8,
   "id": "c9419ff3-e1fa-4e82-9344-ee591b9d40bb",
   "metadata": {},
   "outputs": [
    {
     "name": "stdout",
     "output_type": "stream",
     "text": [
      "Collaborative filtering: (0.247, 0.037)\n"
     ]
    }
   ],
   "source": [
    "variety_cf = Evaluate.variety_collaborative_filtering()\n",
    "print(\"Collaborative filtering:\", variety_cf)"
   ]
  },
  {
   "cell_type": "code",
   "execution_count": 4,
   "id": "28645db8-21b1-4c13-976d-edf92d83c6ef",
   "metadata": {},
   "outputs": [
    {
     "name": "stdout",
     "output_type": "stream",
     "text": [
      "Content-based: (0.392, 0.085)\n"
     ]
    }
   ],
   "source": [
    "variety_cb = Evaluate.variety_content_based()\n",
    "print(\"Content-based:\", variety_cb)"
   ]
  },
  {
   "cell_type": "code",
   "execution_count": 4,
   "id": "b9a8febf-101a-40ba-a440-3ab947287e3a",
   "metadata": {},
   "outputs": [
    {
     "name": "stdout",
     "output_type": "stream",
     "text": [
      "Hybrid: (0.304, 0.058)\n"
     ]
    }
   ],
   "source": [
    "variety_hybrid = Evaluate.variety_hybrid()\n",
    "print(\"Hybrid:\", variety_hybrid)"
   ]
  },
  {
   "cell_type": "markdown",
   "id": "daf391a5-5a45-4928-8975-18ce39b8c0cd",
   "metadata": {},
   "source": [
    "## Personalization\n",
    "A personalised system is expected to suggest different movies for dissimilar users.\n",
    "\n",
    "Mertic: overlap between suggestions for different users.\n",
    "\n",
    "Similarity is taken from various similarity matrices."
   ]
  },
  {
   "cell_type": "code",
   "execution_count": 3,
   "id": "50b99642-756f-40fa-8d7c-601690a9dcde",
   "metadata": {},
   "outputs": [
    {
     "name": "stdout",
     "output_type": "stream",
     "text": [
      "...Loading Content Based Recommender..\n",
      "...Loading Hybrid Recommender..\n",
      "Getting the ratings matrix...\n",
      "Preparing data in the Suprise format...\n",
      "Computing the pearson similarity matrix...\n",
      "Done computing similarity matrix.\n",
      "...Loading Collaborative Filtering Recommender..\n",
      "Getting the ratings matrix...\n",
      "Preparing data in the Suprise format...\n",
      "...Computing KNN similarity matrix...\n",
      "Computing the msd similarity matrix...\n",
      "Done computing similarity matrix.\n",
      "Computing the msd similarity matrix...\n",
      "Done computing similarity matrix.\n"
     ]
    }
   ],
   "source": [
    "evaluate = Evaluate()\n",
    "evaluate.compute_surprise_similarity()"
   ]
  },
  {
   "cell_type": "code",
   "execution_count": 6,
   "id": "40b51ca4-abcb-405d-8b57-e2518585a0cc",
   "metadata": {},
   "outputs": [],
   "source": [
    "result_cf = evaluate.personalisation('cf')\n",
    "result_cb = evaluate.personalisation('cb')"
   ]
  },
  {
   "cell_type": "code",
   "execution_count": 4,
   "id": "8005b54a-c30c-48dd-8841-4891862ec39d",
   "metadata": {},
   "outputs": [],
   "source": [
    "result_hyb = evaluate.personalisation('hyb')"
   ]
  },
  {
   "cell_type": "code",
   "execution_count": 7,
   "id": "36745c30-effd-4ce2-87be-9725560a735b",
   "metadata": {},
   "outputs": [
    {
     "data": {
      "text/plain": [
       "<matplotlib.legend.Legend at 0x7f6f51e57370>"
      ]
     },
     "execution_count": 7,
     "metadata": {},
     "output_type": "execute_result"
    },
    {
     "data": {
      "image/png": "[encoded data removed]",
      "text/plain": [
       "<Figure size 1500x480 with 3 Axes>"
      ]
     },
     "metadata": {},
     "output_type": "display_data"
    }
   ],
   "source": [
    "fig=plt.figure()\n",
    "fig.set_figwidth(15)\n",
    "ax=fig.add_subplot(131)\n",
    "ax.set_xlabel('Similarity')\n",
    "ax.set_ylabel('Overlap')\n",
    "ax.plot(result_cb.similarity, result_cb.overlap, \"b.\", linewidth=0.2, label=\"contetn_based\")\n",
    "ax.legend()\n",
    "ax=fig.add_subplot(132)\n",
    "ax.plot(result_cf.similarity,result_cf.overlap, \"g*\", linewidth=0.2, label=\"collaborative filtering\")\n",
    "ax.legend()\n",
    "ax=fig.add_subplot(133)\n",
    "ax.plot(result_hyb.similarity, result_hyb.overlap, \"r.\", linewidth=0.9, label=\"hybrid\")\n",
    "ax.legend()"
   ]
  },
  {
   "cell_type": "code",
   "execution_count": null,
   "id": "c56e9a24-0097-43d3-a9aa-be7413a8414d",
   "metadata": {},
   "outputs": [],
   "source": [
    "def return_sims_above_threshold(similarities_df, threshold):\n",
    "    return len(similarities_df[similarities_df.similarity > threshold])"
   ]
  }
 ],
 "metadata": {
  "kernelspec": {
   "display_name": "Python 3 (ipykernel)",
   "language": "python",
   "name": "python3"
  },
  "language_info": {
   "codemirror_mode": {
    "name": "ipython",
    "version": 3
   },
   "file_extension": ".py",
   "mimetype": "text/x-python",
   "name": "python",
   "nbconvert_exporter": "python",
   "pygments_lexer": "ipython3",
   "version": "3.10.9"
  }
 },
 "nbformat": 4,
 "nbformat_minor": 5
}
