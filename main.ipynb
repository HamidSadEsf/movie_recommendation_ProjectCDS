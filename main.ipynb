{
 "cells": [
  {
   "cell_type": "markdown",
   "id": "5cdc6d1d-a876-404e-bdbd-3d3a981622c7",
   "metadata": {},
   "source": [
    "# Demostration of the recommenders"
   ]
  },
  {
   "cell_type": "code",
   "execution_count": 1,
   "id": "8a30c231-b81a-48e9-ae0d-baaec59278e3",
   "metadata": {},
   "outputs": [],
   "source": [
    "import pandas as pd\n",
    "import numpy as np\n",
    "from surprise import dump\n",
    "from evaluation.Evaluate import Evaluate\n",
    "\n",
    "import model.CollaborativeFilteringRec as CFR\n",
    "import model.HybridRecommendationSystem as HR\n",
    "import model.ContentBasedRec as CBR\n",
    "\n",
    "movie_df = pd.read_csv('./data/external/movies.csv')"
   ]
  },
  {
   "cell_type": "markdown",
   "id": "3850dcb1-281a-4bc2-a6f5-120c3cb0d5c7",
   "metadata": {},
   "source": [
    "## Preprocessing\n",
    "* Preprocessed data for both content-based and colloborative filtering systems.\n",
    "* Updates the precalculated dataframes."
   ]
  },
  {
   "cell_type": "code",
   "execution_count": 2,
   "id": "73a52e39-cb09-40d1-8aff-b9ed48bfac7e",
   "metadata": {},
   "outputs": [
    {
     "name": "stdout",
     "output_type": "stream",
     "text": [
      "Creating raw dataframes...\n",
      "Creating dataframes with Sveta and Hamid ratings...\n",
      "Creating dataframes with anti-Sveta and anti-Hamid ratings...\n",
      "Creating new ratings dataframe for collaborative filtering ...\n",
      "Out of total of  138493  users,  64051  are considered lazy and will be removed.\n",
      "The final number of users is  74442\n",
      "Randomly choosing 1000 users...\n",
      "Adding Sviatlana's and Hamid's ratings... we are lazy users, but still...\n",
      "Sveta 's user id is 48779\n",
      "Hamid 's user id is 22566\n",
      "Adding anti-Sviatlana's and anti-Hamid's ratings... they are lazy users, but still...\n",
      "anti-Sveta 's user id is 102640\n",
      "anti-Hamid 's user id is 78103\n",
      "Now, the final number of users is  1004\n",
      "Filtering movies...\n",
      "Out of total of  8860  movies,  8298  are considered rare and will be removed.\n",
      "The final number of movies is  562\n",
      "Creating the pivot matrix...\n",
      "The resulting sparcity of the matrix is: 0.7977768640739533\n",
      "Preparing the final rating matrix...\n",
      "Data preprocesssing for collaborative filtering modeling is completed!\n",
      "Prerocessing for Content-Based Recommender...\n"
     ]
    },
    {
     "name": "stderr",
     "output_type": "stream",
     "text": [
      "/home/mumu/Documents/DS/movie_recommendation_ProjectCDS/data_script/preprocess_content_based.py:91: FutureWarning: Using the level keyword in DataFrame and Series aggregations is deprecated and will be removed in a future version. Use groupby instead. df.sum(level=1) should use df.groupby(level=1).sum().\n",
      "  dummies = pd.get_dummies(df_movies.genres.apply(pd.Series).stack()).sum(level=0)\n"
     ]
    },
    {
     "ename": "NameError",
     "evalue": "name 'df' is not defined",
     "output_type": "error",
     "traceback": [
      "\u001b[0;31m---------------------------------------------------------------------------\u001b[0m",
      "\u001b[0;31mNameError\u001b[0m                                 Traceback (most recent call last)",
      "Cell \u001b[0;32mIn[2], line 9\u001b[0m\n\u001b[1;32m      6\u001b[0m df_ContBaseRe \u001b[38;5;241m=\u001b[39m get_df_ContBaseRec()\n\u001b[1;32m      8\u001b[0m \u001b[38;5;28;01mfrom\u001b[39;00m \u001b[38;5;21;01mdata_script\u001b[39;00m\u001b[38;5;21;01m.\u001b[39;00m\u001b[38;5;21;01mclustering_content_based\u001b[39;00m \u001b[38;5;28;01mimport\u001b[39;00m get_labeledMovies\n\u001b[0;32m----> 9\u001b[0m labeledMovies \u001b[38;5;241m=\u001b[39m get_labeledMovies(\u001b[43mdf\u001b[49m, clusters\u001b[38;5;241m=\u001b[39m\u001b[38;5;241m18\u001b[39m)\n",
      "\u001b[0;31mNameError\u001b[0m: name 'df' is not defined"
     ]
    }
   ],
   "source": [
    "print(\"Prerocessing for Collaborative Filtering Recommender...\")\n",
    "from data_script.preprocess_collaborative import sveta_user_id, hamid_user_id\n",
    "# import clustering_collaborative #TODO\n",
    "\n",
    "print(\"Prerocessing for Content-Based Recommender...\")\n",
    "from data_script.preprocess_content_based import get_df_ContBaseRec\n",
    "df_ContBaseRec = get_df_ContBaseRec()\n",
    "\n",
    "from data_script.clustering_content_based import get_labeledMovies\n",
    "labeledMovies = get_labeledMovies(df_ContBaseRec, clusters=18)\n"
   ]
  },
  {
   "cell_type": "code",
   "execution_count": null,
   "id": "e854521d-60d2-4321-a79e-610231b75a5e",
   "metadata": {},
   "outputs": [],
   "source": [
    "# pick a user\n",
    "ratings = pd.read_csv('./data/processed/final_ratings.csv')\n",
    "random_user = np.random.choice(ratings.userId.unique()) # picks a random user\n",
    "sveta_user_id, hamid_user_id # or use sveta and hamid's ids."
   ]
  },
  {
   "cell_type": "markdown",
   "id": "25d2060d-4248-45a0-9d5a-066f34aaf3a1",
   "metadata": {},
   "source": [
    "## Content-based recommender"
   ]
  },
  {
   "cell_type": "code",
   "execution_count": null,
   "id": "38d22247-c01a-46a2-8637-a868d60f9333",
   "metadata": {},
   "outputs": [],
   "source": [
    "cb_df = CBR.recommendation(sveta_user_id, 20, 0)\n",
    "cb_df.head(20)"
   ]
  },
  {
   "cell_type": "markdown",
   "id": "2921b78a-6a58-4fcf-b947-710af3f5495d",
   "metadata": {},
   "source": [
    "## User-based colloborative filtering recommender"
   ]
  },
  {
   "cell_type": "code",
   "execution_count": null,
   "id": "ff8a1a4b-0221-4c61-b462-1f231ac12660",
   "metadata": {},
   "outputs": [],
   "source": [
    "cf_model = CFR.CollaborativeFilteringRecommender()\n",
    "cf_model.fit_and_predict()\n",
    "cf_model.recommend(sveta_user_id, 20).merge(movie_df, on='movieId', how='left')"
   ]
  },
  {
   "cell_type": "markdown",
   "id": "4a22b4d1-c32b-45be-9248-50a9e72a6cb1",
   "metadata": {},
   "source": [
    "## Hybrid recommender"
   ]
  },
  {
   "cell_type": "code",
   "execution_count": null,
   "id": "227f90f9-ba9f-4f31-80cd-c36228b88caa",
   "metadata": {},
   "outputs": [],
   "source": [
    "h_df = HR.hybrid_recommendation(sveta_user_id)\n",
    "h_df.head(20)"
   ]
  },
  {
   "cell_type": "code",
   "execution_count": null,
   "id": "1b43573b-dcca-451f-84a3-02ef361a6079",
   "metadata": {},
   "outputs": [],
   "source": []
  }
 ],
 "metadata": {
  "kernelspec": {
   "display_name": "Python 3 (ipykernel)",
   "language": "python",
   "name": "python3"
  },
  "language_info": {
   "codemirror_mode": {
    "name": "ipython",
    "version": 3
   },
   "file_extension": ".py",
   "mimetype": "text/x-python",
   "name": "python",
   "nbconvert_exporter": "python",
   "pygments_lexer": "ipython3",
   "version": "3.10.9"
  }
 },
 "nbformat": 4,
 "nbformat_minor": 5
}
