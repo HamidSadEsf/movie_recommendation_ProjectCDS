{
 "cells": [
  {
   "cell_type": "code",
   "execution_count": 1,
   "id": "f27cc6be-b24f-4b76-b171-45667f64c569",
   "metadata": {
    "tags": []
   },
   "outputs": [],
   "source": [
    "import pandas as pd\n",
    "import numpy as np\n",
    "import time\n",
    "import matplotlib.pyplot as plt\n",
    "%matplotlib inline\n",
    "from scipy.sparse import csr_matrix, save_npz"
   ]
  },
  {
   "cell_type": "code",
   "execution_count": 2,
   "id": "87fcf095-397d-4a59-a592-f5e22ea55259",
   "metadata": {
    "tags": []
   },
   "outputs": [],
   "source": [
    "# import datasets:\n",
    "genome_scores =  pd.read_csv('data/genome-scores.csv')\n",
    "movies = pd.read_csv('data/movies.csv',  usecols = [\"movieId\"])\n",
    "ratings = pd.read_csv('data/ratings.csv', usecols = [\"movieId\", \"userId\", \"rating\"])"
   ]
  },
  {
   "cell_type": "markdown",
   "id": "735b60e2-350f-4fc6-b20a-d94511c2b984",
   "metadata": {
    "tags": []
   },
   "source": [
    "# Colloborative filtering\n",
    "## Prepare user - movie - rating matrices"
   ]
  },
  {
   "cell_type": "code",
   "execution_count": 3,
   "id": "e9e79fa0-8cac-40af-95f6-b9c7e7e527ef",
   "metadata": {
    "tags": []
   },
   "outputs": [
    {
     "name": "stdout",
     "output_type": "stream",
     "text": [
      "The total number of movies in movies, ratings and genome score dataframes, respectively : 27278 26744 10381\n"
     ]
    }
   ],
   "source": [
    "# Count movies in the movies df\n",
    "tmm = movies[\"movieId\"].nunique()\n",
    "# Count movies in the matings df\n",
    "tmr = ratings[\"movieId\"].nunique()\n",
    "# Count movies in the genome_score df\n",
    "tmg = genome_scores[\"movieId\"].nunique()\n",
    "print(\"The total number of movies in movies, ratings and genome score dataframes, respectively :\", tmm, tmr, tmg)"
   ]
  },
  {
   "cell_type": "code",
   "execution_count": 3,
   "id": "4cfce630-2e57-441b-b337-f4df901754df",
   "metadata": {},
   "outputs": [],
   "source": [
    "# Create a movie - user - rating data frame with movies present in all the dataframes\n",
    "tagged_movies = pd.DataFrame(genome_scores['movieId'].value_counts()).index\n",
    "mov_rat = pd.merge(movies, ratings, on=\"movieId\")"
   ]
  },
  {
   "cell_type": "code",
   "execution_count": 10,
   "id": "fbc9f475-42cc-4b6e-a17e-d88bebb41dbd",
   "metadata": {},
   "outputs": [],
   "source": [
    "final_df = mov_rat[mov_rat[\"movieId\"].isin(tagged_movies)]"
   ]
  },
  {
   "cell_type": "code",
   "execution_count": 11,
   "id": "bb060fb9-e0d0-471c-83c1-73238472e39b",
   "metadata": {
    "tags": []
   },
   "outputs": [
    {
     "name": "stdout",
     "output_type": "stream",
     "text": [
      "Out of total of  10370  movies,  5894  are considered rare and will be removed.\n",
      "The final number of movies is  4476\n",
      "Out of total of  138493  users,  131909  are considered lazy and will be removed.\n",
      "The final number of users is  6584\n",
      "The resulting sparcity of the matrix is: 0.8186343433372749\n"
     ]
    }
   ],
   "source": [
    "#Reducing the dataframe by removing unpopular movies and inactive users\n",
    "#Shringking movies\n",
    "gf = pd.DataFrame(final_df['movieId'].value_counts())\n",
    "rare_movies = gf[gf['movieId'] <= 500].index\n",
    "final_df = final_df[~final_df[\"movieId\"].isin(rare_movies)]\n",
    "print('Out of total of ', gf.shape[0] , ' movies, ', rare_movies.shape[0], ' are considered rare and will be removed.')\n",
    "print('The final number of movies is ', final_df[\"movieId\"].nunique())\n",
    "\n",
    "#Shringking users\n",
    "udf = pd.DataFrame(final_df['userId'].value_counts())\n",
    "lazy_users = udf[udf['userId'] <= 500].index\n",
    "final_df = final_df[~final_df[\"userId\"].isin(lazy_users)]\n",
    "print('Out of total of ', udf.shape[0] , ' users, ', lazy_users.shape[0], ' are considered lazy and will be removed.')\n",
    "print('The final number of users is ', final_df[\"userId\"].nunique())\n",
    "\n",
    "# Create the user->movie sparse rating matrix. Fill the NA with zeros\n",
    "pivot = final_df.pivot_table(index=\"userId\", columns=\"movieId\", values=\"rating\")\n",
    "pivot_na = pivot.copy()\n",
    "#pivot.fillna(0,inplace=True)\n",
    "#pivot.to_csv('matrices/pivot.csv', index=True, header=\"userId\")\n",
    "\n",
    "#Estimate sparsity\n",
    "sparsity = 1.0 - ( np.count_nonzero(pivot) / float(pivot.size) )\n",
    "print(\"The resulting sparcity of the matrix is:\", sparsity)\n",
    "\n",
    "#Create non-sparce dataset\n",
    "csr_data = csr_matrix(pivot.values)\n",
    "\n",
    "# Lets save teh pivot matrix with NA for further uses\n",
    "pivot_na.to_csv('matrices/pivot_na.csv', index=True, header=\"userId\")"
   ]
  },
  {
   "cell_type": "code",
   "execution_count": 7,
   "id": "6f5847fc-0c17-4b7d-a491-9b50eaee70db",
   "metadata": {},
   "outputs": [],
   "source": [
    "#final_df.to_csv('matrices/final_ratings.csv', index=False)"
   ]
  },
  {
   "cell_type": "code",
   "execution_count": null,
   "id": "01ae3de5-42c3-4aa4-a5df-14ac058609ab",
   "metadata": {},
   "outputs": [],
   "source": [
    "#save_npz(\"matrices/sparse_ratings.npz\", csr_data)"
   ]
  }
 ],
 "metadata": {
  "kernelspec": {
   "display_name": "Python 3 (ipykernel)",
   "language": "python",
   "name": "python3"
  },
  "language_info": {
   "codemirror_mode": {
    "name": "ipython",
    "version": 3
   },
   "file_extension": ".py",
   "mimetype": "text/x-python",
   "name": "python",
   "nbconvert_exporter": "python",
   "pygments_lexer": "ipython3",
   "version": "3.10.9"
  }
 },
 "nbformat": 4,
 "nbformat_minor": 5
}
