{
 "cells": [
  {
   "cell_type": "markdown",
   "id": "33718ef8-8f73-42cd-ba66-f6f3ba459e50",
   "metadata": {},
   "source": [
    "# Collaborative filtering notebook"
   ]
  },
  {
   "cell_type": "markdown",
   "id": "8aaed543-c825-4d62-9bec-8bcd9d360ab3",
   "metadata": {},
   "source": [
    "Collaborative filtering is an umbrella of methods. These filtering methods only use ratings (implicit or\n",
    "explicit) as the source for creating recommendations. \n",
    "\n",
    "Neighborhood-based filtering is a branch of collaboratie filtering.\n",
    "User-user and item-item systems are to possible implementations."
   ]
  },
  {
   "cell_type": "code",
   "execution_count": 1,
   "id": "30df1cd7-e68b-44ba-b763-a32eb448b9cc",
   "metadata": {
    "tags": []
   },
   "outputs": [],
   "source": [
    "import pandas as pd\n",
    "import numpy as np\n",
    "import time\n",
    "import matplotlib.pyplot as plt\n",
    "%matplotlib inline\n",
    "from scipy.sparse import csr_matrix, save_npz, load_npz\n",
    "from sklearn import neighbors\n",
    "from sklearn.cluster import KMeans\n",
    "from scipy import sparse\n",
    "import dask.dataframe as dd\n",
    "import seaborn as sns"
   ]
  },
  {
   "cell_type": "code",
   "execution_count": 2,
   "id": "5125a503-f11b-459a-a5bf-d65a62442311",
   "metadata": {},
   "outputs": [
    {
     "name": "stdout",
     "output_type": "stream",
     "text": [
      "<class 'pandas.core.frame.DataFrame'>\n",
      "Int64Index: 27256 entries, 0 to 27277\n",
      "Data columns (total 4 columns):\n",
      " #   Column        Non-Null Count  Dtype \n",
      "---  ------        --------------  ----- \n",
      " 0   movieId       27256 non-null  int64 \n",
      " 1   title         27256 non-null  object\n",
      " 2   genres        27256 non-null  object\n",
      " 3   release_year  27256 non-null  int64 \n",
      "dtypes: int64(2), object(2)\n",
      "memory usage: 1.0+ MB\n",
      "None\n"
     ]
    },
    {
     "data": {
      "text/html": [
       "<div>\n",
       "<style scoped>\n",
       "    .dataframe tbody tr th:only-of-type {\n",
       "        vertical-align: middle;\n",
       "    }\n",
       "\n",
       "    .dataframe tbody tr th {\n",
       "        vertical-align: top;\n",
       "    }\n",
       "\n",
       "    .dataframe thead th {\n",
       "        text-align: right;\n",
       "    }\n",
       "</style>\n",
       "<table border=\"1\" class=\"dataframe\">\n",
       "  <thead>\n",
       "    <tr style=\"text-align: right;\">\n",
       "      <th></th>\n",
       "      <th>movieId</th>\n",
       "      <th>title</th>\n",
       "      <th>genres</th>\n",
       "      <th>release_year</th>\n",
       "    </tr>\n",
       "  </thead>\n",
       "  <tbody>\n",
       "    <tr>\n",
       "      <th>0</th>\n",
       "      <td>1</td>\n",
       "      <td>Toy Story</td>\n",
       "      <td>Adventure|Animation|Children|Comedy|Fantasy</td>\n",
       "      <td>1995</td>\n",
       "    </tr>\n",
       "    <tr>\n",
       "      <th>1</th>\n",
       "      <td>2</td>\n",
       "      <td>Jumanji</td>\n",
       "      <td>Adventure|Children|Fantasy</td>\n",
       "      <td>1995</td>\n",
       "    </tr>\n",
       "    <tr>\n",
       "      <th>2</th>\n",
       "      <td>3</td>\n",
       "      <td>Grumpier Old Men</td>\n",
       "      <td>Comedy|Romance</td>\n",
       "      <td>1995</td>\n",
       "    </tr>\n",
       "    <tr>\n",
       "      <th>3</th>\n",
       "      <td>4</td>\n",
       "      <td>Waiting to Exhale</td>\n",
       "      <td>Comedy|Drama|Romance</td>\n",
       "      <td>1995</td>\n",
       "    </tr>\n",
       "    <tr>\n",
       "      <th>4</th>\n",
       "      <td>5</td>\n",
       "      <td>Father of the Bride Part II</td>\n",
       "      <td>Comedy</td>\n",
       "      <td>1995</td>\n",
       "    </tr>\n",
       "  </tbody>\n",
       "</table>\n",
       "</div>"
      ],
      "text/plain": [
       "   movieId                        title  \\\n",
       "0        1                    Toy Story   \n",
       "1        2                      Jumanji   \n",
       "2        3             Grumpier Old Men   \n",
       "3        4            Waiting to Exhale   \n",
       "4        5  Father of the Bride Part II   \n",
       "\n",
       "                                        genres  release_year  \n",
       "0  Adventure|Animation|Children|Comedy|Fantasy          1995  \n",
       "1                   Adventure|Children|Fantasy          1995  \n",
       "2                               Comedy|Romance          1995  \n",
       "3                         Comedy|Drama|Romance          1995  \n",
       "4                                       Comedy          1995  "
      ]
     },
     "execution_count": 2,
     "metadata": {},
     "output_type": "execute_result"
    }
   ],
   "source": [
    "# importing movies dataframe\n",
    "movies = pd.read_csv(\"data/movies.csv\")\n",
    "\n",
    "# extracting release year\n",
    "movies['release_year'] = movies.title.str.extract(\"\\((\\d{4})\\)\", expand=True)\n",
    "movies.release_year = pd.to_datetime(movies.release_year, format='%Y')\n",
    "\n",
    "# as there are some NaN years, we remove those\n",
    "movies.dropna(inplace=True) \n",
    "movies.release_year = movies.release_year.dt.year \n",
    "movies.title = movies.title.str[:-7]\n",
    "print(movies.info())\n",
    "movies.head()\n"
   ]
  },
  {
   "cell_type": "markdown",
   "id": "03952525-9d92-4d3d-bca5-5d6047ac1de5",
   "metadata": {
    "jp-MarkdownHeadingCollapsed": true,
    "tags": []
   },
   "source": [
    "## Calculating the suggestins for the \"cold-starters\""
   ]
  },
  {
   "cell_type": "code",
   "execution_count": 3,
   "id": "48766c38-879a-42f8-bf7f-e789a8ae7365",
   "metadata": {},
   "outputs": [
    {
     "name": "stdout",
     "output_type": "stream",
     "text": [
      "<class 'pandas.core.frame.DataFrame'>\n",
      "Int64Index: 860 entries, 22304 to 27277\n",
      "Data columns (total 4 columns):\n",
      " #   Column        Non-Null Count  Dtype \n",
      "---  ------        --------------  ----- \n",
      " 0   movieId       860 non-null    int64 \n",
      " 1   title         860 non-null    object\n",
      " 2   genres        860 non-null    object\n",
      " 3   release_year  860 non-null    int64 \n",
      "dtypes: int64(2), object(2)\n",
      "memory usage: 33.6+ KB\n"
     ]
    }
   ],
   "source": [
    "# selecting only \"recently\" released movies (in 2014 and 2015)\n",
    "start_date = 2013\n",
    "end_date = 2016\n",
    "mask = (movies['release_year'] > start_date) & (movies['release_year'] <= end_date)\n",
    "latest_movies = movies.loc[mask]\n",
    "latest_movies.info()"
   ]
  },
  {
   "cell_type": "code",
   "execution_count": 4,
   "id": "7377be8f-5c86-4b26-877a-eb92415dc0e5",
   "metadata": {},
   "outputs": [],
   "source": [
    "# import the ratings matrix\n",
    "ratings = pd.read_csv(\"data/ratings.csv\")"
   ]
  },
  {
   "cell_type": "code",
   "execution_count": 5,
   "id": "c534ff87-8d81-4fb3-8f47-369932984a6f",
   "metadata": {},
   "outputs": [
    {
     "data": {
      "text/plain": [
       "Index(['userId', 'movieId', 'rating', 'timestamp'], dtype='object')"
      ]
     },
     "execution_count": 5,
     "metadata": {},
     "output_type": "execute_result"
    }
   ],
   "source": [
    "ratings.columns"
   ]
  },
  {
   "cell_type": "code",
   "execution_count": 6,
   "id": "dc217090-da69-4a01-b672-0f1bb492c9c2",
   "metadata": {},
   "outputs": [],
   "source": [
    "# using Dask library, convert the timestamps to year, month and date\n",
    "dask_ratings = dd.from_pandas(ratings, npartitions=40)\n",
    "dask_ratings['rating_year']=dd.to_datetime(ratings.timestamp,unit='s').dt.year\n",
    "dask_ratings['rating_month']=dd.to_datetime(ratings.timestamp,unit='s').dt.month\n",
    "dask_ratings['rating_date'] = dd.to_datetime(ratings.timestamp, unit='s')"
   ]
  },
  {
   "cell_type": "code",
   "execution_count": 7,
   "id": "b05a4dab-6a7d-48ab-9d7c-0b999bec6b18",
   "metadata": {},
   "outputs": [],
   "source": [
    "# compute back the pandas ratings dataframe\n",
    "ratings = dask_ratings.compute()"
   ]
  },
  {
   "cell_type": "code",
   "execution_count": 8,
   "id": "c42781a4-5570-40ed-a9eb-50e8990913fd",
   "metadata": {},
   "outputs": [
    {
     "name": "stdout",
     "output_type": "stream",
     "text": [
      "<class 'pandas.core.frame.DataFrame'>\n",
      "Int64Index: 42349 entries, 0 to 42348\n",
      "Data columns (total 10 columns):\n",
      " #   Column        Non-Null Count  Dtype         \n",
      "---  ------        --------------  -----         \n",
      " 0   userId        42349 non-null  int64         \n",
      " 1   movieId       42349 non-null  int64         \n",
      " 2   rating        42349 non-null  float64       \n",
      " 3   timestamp     42349 non-null  int64         \n",
      " 4   rating_year   42349 non-null  int64         \n",
      " 5   rating_month  42349 non-null  int64         \n",
      " 6   rating_date   42349 non-null  datetime64[ns]\n",
      " 7   title         42349 non-null  object        \n",
      " 8   genres        42349 non-null  object        \n",
      " 9   release_year  42349 non-null  int64         \n",
      "dtypes: datetime64[ns](1), float64(1), int64(6), object(2)\n",
      "memory usage: 3.6+ MB\n"
     ]
    }
   ],
   "source": [
    "# merge latest movies and latest ratings\n",
    "latest_ratings = pd.merge(ratings, latest_movies, on=\"movieId\")\n",
    "latest_ratings.info()"
   ]
  },
  {
   "cell_type": "code",
   "execution_count": 9,
   "id": "2a7d7848-0f89-4e2f-ae8f-5ba5976711ad",
   "metadata": {},
   "outputs": [
    {
     "data": {
      "text/html": [
       "<div>\n",
       "<style scoped>\n",
       "    .dataframe tbody tr th:only-of-type {\n",
       "        vertical-align: middle;\n",
       "    }\n",
       "\n",
       "    .dataframe tbody tr th {\n",
       "        vertical-align: top;\n",
       "    }\n",
       "\n",
       "    .dataframe thead tr th {\n",
       "        text-align: left;\n",
       "    }\n",
       "\n",
       "    .dataframe thead tr:last-of-type th {\n",
       "        text-align: right;\n",
       "    }\n",
       "</style>\n",
       "<table border=\"1\" class=\"dataframe\">\n",
       "  <thead>\n",
       "    <tr>\n",
       "      <th></th>\n",
       "      <th>release_year</th>\n",
       "      <th>rating</th>\n",
       "    </tr>\n",
       "    <tr>\n",
       "      <th></th>\n",
       "      <th>count</th>\n",
       "      <th>mean</th>\n",
       "    </tr>\n",
       "    <tr>\n",
       "      <th>release_year</th>\n",
       "      <th></th>\n",
       "      <th></th>\n",
       "    </tr>\n",
       "  </thead>\n",
       "  <tbody>\n",
       "    <tr>\n",
       "      <th>2014</th>\n",
       "      <td>41353</td>\n",
       "      <td>3.524484</td>\n",
       "    </tr>\n",
       "    <tr>\n",
       "      <th>2015</th>\n",
       "      <td>996</td>\n",
       "      <td>2.920181</td>\n",
       "    </tr>\n",
       "  </tbody>\n",
       "</table>\n",
       "</div>"
      ],
      "text/plain": [
       "             release_year    rating\n",
       "                    count      mean\n",
       "release_year                       \n",
       "2014                41353  3.524484\n",
       "2015                  996  2.920181"
      ]
     },
     "execution_count": 9,
     "metadata": {},
     "output_type": "execute_result"
    }
   ],
   "source": [
    "#distribution of movies between 2014 and 2015\n",
    "tempdf = latest_ratings.groupby(['release_year']).agg({'release_year': 'count', 'rating' : ['mean']})\n",
    "tempdf.head(100)"
   ]
  },
  {
   "cell_type": "code",
   "execution_count": 11,
   "id": "062f5d0b-da7e-4ffd-9003-0a5fe483fb2d",
   "metadata": {},
   "outputs": [
    {
     "data": {
      "text/html": [
       "<div>\n",
       "<style scoped>\n",
       "    .dataframe tbody tr th:only-of-type {\n",
       "        vertical-align: middle;\n",
       "    }\n",
       "\n",
       "    .dataframe tbody tr th {\n",
       "        vertical-align: top;\n",
       "    }\n",
       "\n",
       "    .dataframe thead th {\n",
       "        text-align: right;\n",
       "    }\n",
       "</style>\n",
       "<table border=\"1\" class=\"dataframe\">\n",
       "  <thead>\n",
       "    <tr style=\"text-align: right;\">\n",
       "      <th></th>\n",
       "      <th>rating_amount</th>\n",
       "      <th>avg_rating</th>\n",
       "      <th>title</th>\n",
       "      <th>release_year</th>\n",
       "    </tr>\n",
       "    <tr>\n",
       "      <th>movieId</th>\n",
       "      <th></th>\n",
       "      <th></th>\n",
       "      <th></th>\n",
       "      <th></th>\n",
       "    </tr>\n",
       "  </thead>\n",
       "  <tbody>\n",
       "    <tr>\n",
       "      <th>107209</th>\n",
       "      <td>3</td>\n",
       "      <td>2.666667</td>\n",
       "      <td>The Outsider</td>\n",
       "      <td>2014</td>\n",
       "    </tr>\n",
       "    <tr>\n",
       "      <th>107516</th>\n",
       "      <td>2</td>\n",
       "      <td>3.250000</td>\n",
       "      <td>Punk's Dead: SLC Punk! 2</td>\n",
       "      <td>2014</td>\n",
       "    </tr>\n",
       "    <tr>\n",
       "      <th>107769</th>\n",
       "      <td>33</td>\n",
       "      <td>2.530303</td>\n",
       "      <td>Paranormal Activity: The Marked Ones</td>\n",
       "      <td>2014</td>\n",
       "    </tr>\n",
       "    <tr>\n",
       "      <th>107916</th>\n",
       "      <td>17</td>\n",
       "      <td>3.176471</td>\n",
       "      <td>Yves Saint Laurent</td>\n",
       "      <td>2014</td>\n",
       "    </tr>\n",
       "    <tr>\n",
       "      <th>107962</th>\n",
       "      <td>4</td>\n",
       "      <td>2.750000</td>\n",
       "      <td>Freezer</td>\n",
       "      <td>2014</td>\n",
       "    </tr>\n",
       "  </tbody>\n",
       "</table>\n",
       "</div>"
      ],
      "text/plain": [
       "         rating_amount  avg_rating                                 title  \\\n",
       "movieId                                                                    \n",
       "107209               3    2.666667                          The Outsider   \n",
       "107516               2    3.250000              Punk's Dead: SLC Punk! 2   \n",
       "107769              33    2.530303  Paranormal Activity: The Marked Ones   \n",
       "107916              17    3.176471                    Yves Saint Laurent   \n",
       "107962               4    2.750000                               Freezer   \n",
       "\n",
       "         release_year  \n",
       "movieId                \n",
       "107209           2014  \n",
       "107516           2014  \n",
       "107769           2014  \n",
       "107916           2014  \n",
       "107962           2014  "
      ]
     },
     "execution_count": 11,
     "metadata": {},
     "output_type": "execute_result"
    }
   ],
   "source": [
    "tmpdf = pd.DataFrame(latest_ratings.groupby(['movieId']).agg({'movieId' : 'count', 'rating': 'mean', 'title': pd.Series.mode,  'release_year': pd.Series.mode}).rename(columns= {'movieId': 'rating_amount', 'rating':'avg_rating'}))\n",
    "tmpdf.head()"
   ]
  },
  {
   "cell_type": "code",
   "execution_count": 10,
   "id": "0047172e-0d5d-4fbb-b229-a3348f8e8a3b",
   "metadata": {},
   "outputs": [
    {
     "ename": "NameError",
     "evalue": "name 'tmpdf' is not defined",
     "output_type": "error",
     "traceback": [
      "\u001b[0;31m---------------------------------------------------------------------------\u001b[0m",
      "\u001b[0;31mNameError\u001b[0m                                 Traceback (most recent call last)",
      "Cell \u001b[0;32mIn[10], line 2\u001b[0m\n\u001b[1;32m      1\u001b[0m \u001b[38;5;66;03m# select only the movies that have been rated more than 10 times and with the average rating higher then 3.5\u001b[39;00m\n\u001b[0;32m----> 2\u001b[0m mask \u001b[38;5;241m=\u001b[39m (\u001b[43mtmpdf\u001b[49m[\u001b[38;5;124m'\u001b[39m\u001b[38;5;124mrating_amount\u001b[39m\u001b[38;5;124m'\u001b[39m] \u001b[38;5;241m>\u001b[39m \u001b[38;5;241m10\u001b[39m) \u001b[38;5;241m&\u001b[39m (tmpdf[\u001b[38;5;124m'\u001b[39m\u001b[38;5;124mavg_rating\u001b[39m\u001b[38;5;124m'\u001b[39m] \u001b[38;5;241m>\u001b[39m \u001b[38;5;241m3.0\u001b[39m)\n\u001b[1;32m      3\u001b[0m tmpdf2 \u001b[38;5;241m=\u001b[39m tmpdf\u001b[38;5;241m.\u001b[39mloc[mask]\n\u001b[1;32m      4\u001b[0m tmpdf2\u001b[38;5;241m.\u001b[39msort_values(by\u001b[38;5;241m=\u001b[39m\u001b[38;5;124m\"\u001b[39m\u001b[38;5;124mavg_rating\u001b[39m\u001b[38;5;124m\"\u001b[39m, ascending\u001b[38;5;241m=\u001b[39m\u001b[38;5;28;01mFalse\u001b[39;00m)\u001b[38;5;241m.\u001b[39mhead()\n",
      "\u001b[0;31mNameError\u001b[0m: name 'tmpdf' is not defined"
     ]
    }
   ],
   "source": [
    "# select only the movies that have been rated more than 10 times and with the average rating higher then 3.5\n",
    "mask = (tmpdf['rating_amount'] > 10) & (tmpdf['avg_rating'] > 3.0)\n",
    "tmpdf2 = tmpdf.loc[mask]\n",
    "tmpdf2.sort_values(by=\"avg_rating\", ascending=False).head()"
   ]
  },
  {
   "cell_type": "code",
   "execution_count": null,
   "id": "700d7e16-f325-4b1f-8bcd-a1fe1d341e37",
   "metadata": {},
   "outputs": [],
   "source": [
    "tmpdf2.groupby(\"release_year\").count().head()"
   ]
  },
  {
   "cell_type": "code",
   "execution_count": null,
   "id": "d975a201-28a2-461b-9361-6451d16ca1ad",
   "metadata": {},
   "outputs": [],
   "source": [
    "#Best movies of 2015 so far:\n",
    "tmpdf2[tmpdf2.release_year == 2015].sort_values(by=\"avg_rating\", ascending=False).head(10)"
   ]
  },
  {
   "cell_type": "code",
   "execution_count": 15,
   "id": "205061d4-df10-4622-83d4-0d028c79b581",
   "metadata": {},
   "outputs": [
    {
     "data": {
      "text/html": [
       "<div>\n",
       "<style scoped>\n",
       "    .dataframe tbody tr th:only-of-type {\n",
       "        vertical-align: middle;\n",
       "    }\n",
       "\n",
       "    .dataframe tbody tr th {\n",
       "        vertical-align: top;\n",
       "    }\n",
       "\n",
       "    .dataframe thead th {\n",
       "        text-align: right;\n",
       "    }\n",
       "</style>\n",
       "<table border=\"1\" class=\"dataframe\">\n",
       "  <thead>\n",
       "    <tr style=\"text-align: right;\">\n",
       "      <th></th>\n",
       "      <th>rating_amount</th>\n",
       "      <th>avg_rating</th>\n",
       "      <th>title</th>\n",
       "      <th>release_year</th>\n",
       "    </tr>\n",
       "    <tr>\n",
       "      <th>movieId</th>\n",
       "      <th></th>\n",
       "      <th></th>\n",
       "      <th></th>\n",
       "      <th></th>\n",
       "    </tr>\n",
       "  </thead>\n",
       "  <tbody>\n",
       "    <tr>\n",
       "      <th>113315</th>\n",
       "      <td>11</td>\n",
       "      <td>4.500000</td>\n",
       "      <td>Zero Motivation (Efes beyahasei enosh)</td>\n",
       "      <td>2014</td>\n",
       "    </tr>\n",
       "    <tr>\n",
       "      <th>112552</th>\n",
       "      <td>602</td>\n",
       "      <td>4.074751</td>\n",
       "      <td>Whiplash</td>\n",
       "      <td>2014</td>\n",
       "    </tr>\n",
       "    <tr>\n",
       "      <th>109487</th>\n",
       "      <td>1739</td>\n",
       "      <td>4.023864</td>\n",
       "      <td>Interstellar</td>\n",
       "      <td>2014</td>\n",
       "    </tr>\n",
       "    <tr>\n",
       "      <th>118880</th>\n",
       "      <td>16</td>\n",
       "      <td>4.000000</td>\n",
       "      <td>A Girl Walks Home Alone at Night</td>\n",
       "      <td>2014</td>\n",
       "    </tr>\n",
       "    <tr>\n",
       "      <th>109374</th>\n",
       "      <td>2230</td>\n",
       "      <td>3.992152</td>\n",
       "      <td>Grand Budapest Hotel, The</td>\n",
       "      <td>2014</td>\n",
       "    </tr>\n",
       "    <tr>\n",
       "      <th>116797</th>\n",
       "      <td>759</td>\n",
       "      <td>3.980237</td>\n",
       "      <td>The Imitation Game</td>\n",
       "      <td>2014</td>\n",
       "    </tr>\n",
       "    <tr>\n",
       "      <th>118896</th>\n",
       "      <td>18</td>\n",
       "      <td>3.972222</td>\n",
       "      <td>Mommy</td>\n",
       "      <td>2014</td>\n",
       "    </tr>\n",
       "    <tr>\n",
       "      <th>111529</th>\n",
       "      <td>40</td>\n",
       "      <td>3.962500</td>\n",
       "      <td>Normal Heart, The</td>\n",
       "      <td>2014</td>\n",
       "    </tr>\n",
       "    <tr>\n",
       "      <th>113240</th>\n",
       "      <td>26</td>\n",
       "      <td>3.942308</td>\n",
       "      <td>Winter Sleep (Kis Uykusu)</td>\n",
       "      <td>2014</td>\n",
       "    </tr>\n",
       "    <tr>\n",
       "      <th>112556</th>\n",
       "      <td>1479</td>\n",
       "      <td>3.936444</td>\n",
       "      <td>Gone Girl</td>\n",
       "      <td>2014</td>\n",
       "    </tr>\n",
       "  </tbody>\n",
       "</table>\n",
       "</div>"
      ],
      "text/plain": [
       "         rating_amount  avg_rating                                   title  \\\n",
       "movieId                                                                      \n",
       "113315              11    4.500000  Zero Motivation (Efes beyahasei enosh)   \n",
       "112552             602    4.074751                                Whiplash   \n",
       "109487            1739    4.023864                            Interstellar   \n",
       "118880              16    4.000000        A Girl Walks Home Alone at Night   \n",
       "109374            2230    3.992152               Grand Budapest Hotel, The   \n",
       "116797             759    3.980237                      The Imitation Game   \n",
       "118896              18    3.972222                                   Mommy   \n",
       "111529              40    3.962500                       Normal Heart, The   \n",
       "113240              26    3.942308               Winter Sleep (Kis Uykusu)   \n",
       "112556            1479    3.936444                               Gone Girl   \n",
       "\n",
       "         release_year  \n",
       "movieId                \n",
       "113315           2014  \n",
       "112552           2014  \n",
       "109487           2014  \n",
       "118880           2014  \n",
       "109374           2014  \n",
       "116797           2014  \n",
       "118896           2014  \n",
       "111529           2014  \n",
       "113240           2014  \n",
       "112556           2014  "
      ]
     },
     "execution_count": 15,
     "metadata": {},
     "output_type": "execute_result"
    }
   ],
   "source": [
    "#Best movies of 2014 so far:\n",
    "tmpdf2[tmpdf2.release_year == 2014].sort_values(by=\"avg_rating\", ascending=False).head(10)"
   ]
  },
  {
   "cell_type": "markdown",
   "id": "08388d04-fc9b-4634-9e1a-860f549471ee",
   "metadata": {},
   "source": [
    "### Testing cold starter function"
   ]
  },
  {
   "cell_type": "code",
   "execution_count": null,
   "id": "a697be12-6575-485d-9359-5654cd4c5c93",
   "metadata": {},
   "outputs": [],
   "source": [
    "def cold_starters(df, amount = 10):\n",
    "    def Min_Max(obj):\n",
    "        nor_obj =  (obj - obj.min()) / (obj.max() - obj.min())\n",
    "        return nor_obj\n",
    "    df['score'] = Min_Max(df.avg_rating) + Min_Max(df.rating_amount) + Min_Max(df.release_year)\n",
    "    return df.sort_values(by='score', ascending = False).head(10)\n",
    "    #return Min_Max(df.avg_rating)"
   ]
  },
  {
   "cell_type": "code",
   "execution_count": null,
   "id": "924b9ceb-79d4-49b4-921b-5b18365a4ac8",
   "metadata": {},
   "outputs": [],
   "source": [
    "cold_starters(tmpdf2, 20)"
   ]
  },
  {
   "cell_type": "markdown",
   "id": "2b8d206c-1f4d-4eb4-a84a-73caeb11890e",
   "metadata": {},
   "source": [
    "I checked the formula for cold starters. It works quite well for year 2014, but i will not recommend any movie from 2015 given the low avg ratings and low rating amount. If we want to recommend \"new releases\", we show apply this formula for the films of 2015 only.\n",
    "\n",
    "Maybe instead of \"trending\", the cold starters can be recommended the most popular \"recent\" movies (2014), mixed with 1 or 2 best  movies of 2015. Or just say that our recommendation system is for the beginning of 2015, and ignore the 2015 releases."
   ]
  },
  {
   "cell_type": "markdown",
   "id": "2addeef1-5ade-4d22-bce0-1a82c6bda378",
   "metadata": {},
   "source": [
    "## Implementing the pipeline\n",
    "\n",
    "* making a pivot matrix\n",
    "* removing the users bias by normalizing by substracting the mean\n",
    "* choosing an active user: add myself to the database\n",
    "* calculating similarity between all active yser and all the rest\n",
    "* order users by similarity\n",
    "* select a neighborhood\n",
    "* predict the rating\n",
    "* evoluate results (accuracy)"
   ]
  },
  {
   "cell_type": "markdown",
   "id": "580b94fc-9e2c-485c-8b5b-dd17ec564ee7",
   "metadata": {},
   "source": [
    "### Geting the utility matrix"
   ]
  },
  {
   "cell_type": "code",
   "execution_count": 3,
   "id": "acaa5c7f-8388-45ea-afaa-bd0525b0cff8",
   "metadata": {
    "tags": []
   },
   "outputs": [],
   "source": [
    "# load utility matrix \n",
    "util_mat = pd.read_csv('matrices/pivot.csv', index_col='userId')\n",
    "\n",
    "# load sparce utility matrix \n",
    "csr_util_mat = load_npz(\"matrices/sparse_ratings.npz\")"
   ]
  },
  {
   "cell_type": "code",
   "execution_count": 4,
   "id": "44e3f02f-8a40-480e-955e-376558d2e2ff",
   "metadata": {},
   "outputs": [],
   "source": [
    "# load utility matrix with NAs\n",
    "util_mat_na = pd.read_csv('matrices/pivot_na.csv', index_col='userId')"
   ]
  },
  {
   "cell_type": "markdown",
   "id": "b3d3b2b4-3096-4716-a1b8-bea1cf539479",
   "metadata": {},
   "source": [
    "### Ading myself to the database"
   ]
  },
  {
   "cell_type": "code",
   "execution_count": 5,
   "id": "d612ade5-c5b2-43f8-a551-47edb5292e31",
   "metadata": {},
   "outputs": [
    {
     "data": {
      "text/html": [
       "<div>\n",
       "<style scoped>\n",
       "    .dataframe tbody tr th:only-of-type {\n",
       "        vertical-align: middle;\n",
       "    }\n",
       "\n",
       "    .dataframe tbody tr th {\n",
       "        vertical-align: top;\n",
       "    }\n",
       "\n",
       "    .dataframe thead th {\n",
       "        text-align: right;\n",
       "    }\n",
       "</style>\n",
       "<table border=\"1\" class=\"dataframe\">\n",
       "  <thead>\n",
       "    <tr style=\"text-align: right;\">\n",
       "      <th></th>\n",
       "      <th>movie_id</th>\n",
       "      <th>imdb_id</th>\n",
       "      <th>tmdb_id</th>\n",
       "      <th>rating</th>\n",
       "      <th>average_rating</th>\n",
       "      <th>title</th>\n",
       "    </tr>\n",
       "  </thead>\n",
       "  <tbody>\n",
       "    <tr>\n",
       "      <th>0</th>\n",
       "      <td>50</td>\n",
       "      <td>114814</td>\n",
       "      <td>629</td>\n",
       "      <td>5.0</td>\n",
       "      <td>4.26568</td>\n",
       "      <td>The Usual Suspects (1995)</td>\n",
       "    </tr>\n",
       "    <tr>\n",
       "      <th>1</th>\n",
       "      <td>111</td>\n",
       "      <td>75314</td>\n",
       "      <td>103</td>\n",
       "      <td>5.0</td>\n",
       "      <td>4.08056</td>\n",
       "      <td>Taxi Driver (1976)</td>\n",
       "    </tr>\n",
       "    <tr>\n",
       "      <th>2</th>\n",
       "      <td>293</td>\n",
       "      <td>110413</td>\n",
       "      <td>101</td>\n",
       "      <td>4.5</td>\n",
       "      <td>4.09683</td>\n",
       "      <td>Léon: The Professional (1994)</td>\n",
       "    </tr>\n",
       "    <tr>\n",
       "      <th>3</th>\n",
       "      <td>296</td>\n",
       "      <td>110912</td>\n",
       "      <td>680</td>\n",
       "      <td>5.0</td>\n",
       "      <td>4.19163</td>\n",
       "      <td>Pulp Fiction (1994)</td>\n",
       "    </tr>\n",
       "    <tr>\n",
       "      <th>4</th>\n",
       "      <td>307</td>\n",
       "      <td>108394</td>\n",
       "      <td>108</td>\n",
       "      <td>4.0</td>\n",
       "      <td>3.96434</td>\n",
       "      <td>Three Colors: Blue (1993)</td>\n",
       "    </tr>\n",
       "  </tbody>\n",
       "</table>\n",
       "</div>"
      ],
      "text/plain": [
       "   movie_id  imdb_id  tmdb_id  rating  average_rating  \\\n",
       "0        50   114814      629     5.0         4.26568   \n",
       "1       111    75314      103     5.0         4.08056   \n",
       "2       293   110413      101     4.5         4.09683   \n",
       "3       296   110912      680     5.0         4.19163   \n",
       "4       307   108394      108     4.0         3.96434   \n",
       "\n",
       "                           title  \n",
       "0      The Usual Suspects (1995)  \n",
       "1             Taxi Driver (1976)  \n",
       "2  Léon: The Professional (1994)  \n",
       "3            Pulp Fiction (1994)  \n",
       "4      Three Colors: Blue (1993)  "
      ]
     },
     "execution_count": 5,
     "metadata": {},
     "output_type": "execute_result"
    }
   ],
   "source": [
    "sveta_ratings = pd.read_csv('matrices/sveta_ratings.csv')\n",
    "sveta_ratings.head()"
   ]
  },
  {
   "cell_type": "code",
   "execution_count": 6,
   "id": "8ef26f7e-f95d-422d-ab03-218c8cb730e0",
   "metadata": {},
   "outputs": [],
   "source": [
    "def add_user(ml_user_ratings, pivot_mat):\n",
    "    intersection = set(pivot_mat.columns.astype(int)) & set(ml_user_ratings.movie_id)\n",
    "    df = pd.DataFrame(columns=pivot_mat.columns, index=[0])\n",
    "    df.head()\n",
    "    pivot_mat = pd.concat([df, pivot_mat])\n",
    "    for i in intersection:\n",
    "        entry = ml_user_ratings.loc[ml_user_ratings.movie_id == i]\n",
    "        movie_rating = entry.rating.values[0]\n",
    "        pivot_mat.loc[[0], [str(i)]] = movie_rating\n",
    "    return pivot_mat"
   ]
  },
  {
   "cell_type": "code",
   "execution_count": 7,
   "id": "e152391d-583f-4f0a-a81b-b2a0a0d5b418",
   "metadata": {},
   "outputs": [],
   "source": [
    "util_mat_na_new = add_user(sveta_ratings, util_mat_na)"
   ]
  },
  {
   "cell_type": "markdown",
   "id": "cf482c69-214f-4ea2-99c7-e148a58f2951",
   "metadata": {},
   "source": [
    "### Normalization of the rating matrix"
   ]
  },
  {
   "cell_type": "code",
   "execution_count": 8,
   "id": "eb962773-67a4-49e7-a41e-3fbf5b66fe3f",
   "metadata": {},
   "outputs": [],
   "source": [
    "# normalize the item ratings based on the users’ average rating\n",
    "def csr_mean_normalization(csr_mat):\n",
    "    \"\"\"\n",
    "    Normalizes the sparce utility matrix based on user's mean rating\n",
    "    \"\"\"\n",
    "    csr_mean = csr_mat.sum(axis=1).flatten()/csr_mat.getnnz(axis=1)\n",
    "    mean_user_vector = np.asarray(csr_mean)\n",
    "    # TODO: figure out how to do minus means on this kind of structure\n",
    "    return mean_user_vector[0]\n",
    "\n",
    "def mean_normalization(pivot):\n",
    "    mat = pivot.copy()\n",
    "    averages = mat[mat != 0].mean(axis = 1).values\n",
    "    for i in range(len(mat)):\n",
    "        # Subtract by mean of each user, not the entire user\n",
    "        mat.iloc[i,:] = (mat.iloc[i,:] - averages[i]) \n",
    "    return averages, mat"
   ]
  },
  {
   "cell_type": "code",
   "execution_count": 9,
   "id": "8ab9b630-bdae-45fb-bef8-2b3cb7d3c9f4",
   "metadata": {},
   "outputs": [
    {
     "data": {
      "text/html": [
       "<div>\n",
       "<style scoped>\n",
       "    .dataframe tbody tr th:only-of-type {\n",
       "        vertical-align: middle;\n",
       "    }\n",
       "\n",
       "    .dataframe tbody tr th {\n",
       "        vertical-align: top;\n",
       "    }\n",
       "\n",
       "    .dataframe thead th {\n",
       "        text-align: right;\n",
       "    }\n",
       "</style>\n",
       "<table border=\"1\" class=\"dataframe\">\n",
       "  <thead>\n",
       "    <tr style=\"text-align: right;\">\n",
       "      <th></th>\n",
       "      <th>1</th>\n",
       "      <th>2</th>\n",
       "      <th>3</th>\n",
       "      <th>4</th>\n",
       "      <th>5</th>\n",
       "      <th>6</th>\n",
       "      <th>7</th>\n",
       "      <th>8</th>\n",
       "      <th>9</th>\n",
       "      <th>10</th>\n",
       "      <th>...</th>\n",
       "      <th>112183</th>\n",
       "      <th>112290</th>\n",
       "      <th>112552</th>\n",
       "      <th>112556</th>\n",
       "      <th>112623</th>\n",
       "      <th>112852</th>\n",
       "      <th>115569</th>\n",
       "      <th>116797</th>\n",
       "      <th>116823</th>\n",
       "      <th>118696</th>\n",
       "    </tr>\n",
       "  </thead>\n",
       "  <tbody>\n",
       "    <tr>\n",
       "      <th>0</th>\n",
       "      <td>NaN</td>\n",
       "      <td>NaN</td>\n",
       "      <td>NaN</td>\n",
       "      <td>NaN</td>\n",
       "      <td>NaN</td>\n",
       "      <td>NaN</td>\n",
       "      <td>NaN</td>\n",
       "      <td>NaN</td>\n",
       "      <td>NaN</td>\n",
       "      <td>NaN</td>\n",
       "      <td>...</td>\n",
       "      <td>NaN</td>\n",
       "      <td>NaN</td>\n",
       "      <td>0.818627</td>\n",
       "      <td>NaN</td>\n",
       "      <td>NaN</td>\n",
       "      <td>NaN</td>\n",
       "      <td>NaN</td>\n",
       "      <td>NaN</td>\n",
       "      <td>NaN</td>\n",
       "      <td>NaN</td>\n",
       "    </tr>\n",
       "    <tr>\n",
       "      <th>54</th>\n",
       "      <td>0.557143</td>\n",
       "      <td>-0.442857</td>\n",
       "      <td>NaN</td>\n",
       "      <td>NaN</td>\n",
       "      <td>-0.442857</td>\n",
       "      <td>-0.442857</td>\n",
       "      <td>NaN</td>\n",
       "      <td>NaN</td>\n",
       "      <td>NaN</td>\n",
       "      <td>0.557143</td>\n",
       "      <td>...</td>\n",
       "      <td>NaN</td>\n",
       "      <td>NaN</td>\n",
       "      <td>NaN</td>\n",
       "      <td>NaN</td>\n",
       "      <td>NaN</td>\n",
       "      <td>NaN</td>\n",
       "      <td>NaN</td>\n",
       "      <td>NaN</td>\n",
       "      <td>NaN</td>\n",
       "      <td>NaN</td>\n",
       "    </tr>\n",
       "    <tr>\n",
       "      <th>58</th>\n",
       "      <td>0.859034</td>\n",
       "      <td>NaN</td>\n",
       "      <td>NaN</td>\n",
       "      <td>NaN</td>\n",
       "      <td>NaN</td>\n",
       "      <td>0.359034</td>\n",
       "      <td>NaN</td>\n",
       "      <td>NaN</td>\n",
       "      <td>NaN</td>\n",
       "      <td>NaN</td>\n",
       "      <td>...</td>\n",
       "      <td>NaN</td>\n",
       "      <td>NaN</td>\n",
       "      <td>NaN</td>\n",
       "      <td>NaN</td>\n",
       "      <td>NaN</td>\n",
       "      <td>NaN</td>\n",
       "      <td>NaN</td>\n",
       "      <td>NaN</td>\n",
       "      <td>NaN</td>\n",
       "      <td>NaN</td>\n",
       "    </tr>\n",
       "    <tr>\n",
       "      <th>91</th>\n",
       "      <td>0.594295</td>\n",
       "      <td>0.094295</td>\n",
       "      <td>-0.405705</td>\n",
       "      <td>NaN</td>\n",
       "      <td>NaN</td>\n",
       "      <td>NaN</td>\n",
       "      <td>-0.905705</td>\n",
       "      <td>NaN</td>\n",
       "      <td>NaN</td>\n",
       "      <td>0.594295</td>\n",
       "      <td>...</td>\n",
       "      <td>NaN</td>\n",
       "      <td>NaN</td>\n",
       "      <td>NaN</td>\n",
       "      <td>NaN</td>\n",
       "      <td>NaN</td>\n",
       "      <td>NaN</td>\n",
       "      <td>NaN</td>\n",
       "      <td>NaN</td>\n",
       "      <td>NaN</td>\n",
       "      <td>NaN</td>\n",
       "    </tr>\n",
       "    <tr>\n",
       "      <th>104</th>\n",
       "      <td>NaN</td>\n",
       "      <td>NaN</td>\n",
       "      <td>NaN</td>\n",
       "      <td>NaN</td>\n",
       "      <td>NaN</td>\n",
       "      <td>NaN</td>\n",
       "      <td>NaN</td>\n",
       "      <td>NaN</td>\n",
       "      <td>NaN</td>\n",
       "      <td>NaN</td>\n",
       "      <td>...</td>\n",
       "      <td>NaN</td>\n",
       "      <td>NaN</td>\n",
       "      <td>NaN</td>\n",
       "      <td>NaN</td>\n",
       "      <td>NaN</td>\n",
       "      <td>NaN</td>\n",
       "      <td>NaN</td>\n",
       "      <td>NaN</td>\n",
       "      <td>NaN</td>\n",
       "      <td>NaN</td>\n",
       "    </tr>\n",
       "  </tbody>\n",
       "</table>\n",
       "<p>5 rows × 4476 columns</p>\n",
       "</div>"
      ],
      "text/plain": [
       "            1         2         3   4         5         6         7   8   9  \\\n",
       "0         NaN       NaN       NaN NaN       NaN       NaN       NaN NaN NaN   \n",
       "54   0.557143 -0.442857       NaN NaN -0.442857 -0.442857       NaN NaN NaN   \n",
       "58   0.859034       NaN       NaN NaN       NaN  0.359034       NaN NaN NaN   \n",
       "91   0.594295  0.094295 -0.405705 NaN       NaN       NaN -0.905705 NaN NaN   \n",
       "104       NaN       NaN       NaN NaN       NaN       NaN       NaN NaN NaN   \n",
       "\n",
       "           10  ...  112183  112290    112552  112556  112623  112852  115569  \\\n",
       "0         NaN  ...     NaN     NaN  0.818627     NaN     NaN     NaN     NaN   \n",
       "54   0.557143  ...     NaN     NaN       NaN     NaN     NaN     NaN     NaN   \n",
       "58        NaN  ...     NaN     NaN       NaN     NaN     NaN     NaN     NaN   \n",
       "91   0.594295  ...     NaN     NaN       NaN     NaN     NaN     NaN     NaN   \n",
       "104       NaN  ...     NaN     NaN       NaN     NaN     NaN     NaN     NaN   \n",
       "\n",
       "     116797  116823  118696  \n",
       "0       NaN     NaN     NaN  \n",
       "54      NaN     NaN     NaN  \n",
       "58      NaN     NaN     NaN  \n",
       "91      NaN     NaN     NaN  \n",
       "104     NaN     NaN     NaN  \n",
       "\n",
       "[5 rows x 4476 columns]"
      ]
     },
     "execution_count": 9,
     "metadata": {},
     "output_type": "execute_result"
    }
   ],
   "source": [
    "means, pivot_norm_na = mean_normalization(util_mat_na_new)\n",
    "pivot_norm_na.head()"
   ]
  },
  {
   "cell_type": "code",
   "execution_count": 10,
   "id": "14776a94-a0f3-4081-beb2-1ba903d3f19d",
   "metadata": {},
   "outputs": [
    {
     "data": {
      "text/plain": [
       "4.181372549019608"
      ]
     },
     "execution_count": 10,
     "metadata": {},
     "output_type": "execute_result"
    }
   ],
   "source": [
    "means[0]"
   ]
  },
  {
   "cell_type": "code",
   "execution_count": 11,
   "id": "e41f8cd6-2237-4662-8acd-71c121d2d63e",
   "metadata": {},
   "outputs": [
    {
     "data": {
      "text/html": [
       "<div>\n",
       "<style scoped>\n",
       "    .dataframe tbody tr th:only-of-type {\n",
       "        vertical-align: middle;\n",
       "    }\n",
       "\n",
       "    .dataframe tbody tr th {\n",
       "        vertical-align: top;\n",
       "    }\n",
       "\n",
       "    .dataframe thead th {\n",
       "        text-align: right;\n",
       "    }\n",
       "</style>\n",
       "<table border=\"1\" class=\"dataframe\">\n",
       "  <thead>\n",
       "    <tr style=\"text-align: right;\">\n",
       "      <th></th>\n",
       "      <th>1</th>\n",
       "      <th>2</th>\n",
       "      <th>3</th>\n",
       "      <th>4</th>\n",
       "      <th>5</th>\n",
       "      <th>6</th>\n",
       "      <th>7</th>\n",
       "      <th>8</th>\n",
       "      <th>9</th>\n",
       "      <th>10</th>\n",
       "      <th>...</th>\n",
       "      <th>112183</th>\n",
       "      <th>112290</th>\n",
       "      <th>112552</th>\n",
       "      <th>112556</th>\n",
       "      <th>112623</th>\n",
       "      <th>112852</th>\n",
       "      <th>115569</th>\n",
       "      <th>116797</th>\n",
       "      <th>116823</th>\n",
       "      <th>118696</th>\n",
       "    </tr>\n",
       "  </thead>\n",
       "  <tbody>\n",
       "    <tr>\n",
       "      <th>0</th>\n",
       "      <td>0.000000</td>\n",
       "      <td>0.000000</td>\n",
       "      <td>0.000000</td>\n",
       "      <td>0.0</td>\n",
       "      <td>0.000000</td>\n",
       "      <td>0.000000</td>\n",
       "      <td>0.000000</td>\n",
       "      <td>0.0</td>\n",
       "      <td>0.0</td>\n",
       "      <td>0.000000</td>\n",
       "      <td>...</td>\n",
       "      <td>0.0</td>\n",
       "      <td>0.0</td>\n",
       "      <td>0.818627</td>\n",
       "      <td>0.0</td>\n",
       "      <td>0.0</td>\n",
       "      <td>0.0</td>\n",
       "      <td>0.0</td>\n",
       "      <td>0.0</td>\n",
       "      <td>0.0</td>\n",
       "      <td>0.0</td>\n",
       "    </tr>\n",
       "    <tr>\n",
       "      <th>54</th>\n",
       "      <td>0.557143</td>\n",
       "      <td>-0.442857</td>\n",
       "      <td>0.000000</td>\n",
       "      <td>0.0</td>\n",
       "      <td>-0.442857</td>\n",
       "      <td>-0.442857</td>\n",
       "      <td>0.000000</td>\n",
       "      <td>0.0</td>\n",
       "      <td>0.0</td>\n",
       "      <td>0.557143</td>\n",
       "      <td>...</td>\n",
       "      <td>0.0</td>\n",
       "      <td>0.0</td>\n",
       "      <td>0.000000</td>\n",
       "      <td>0.0</td>\n",
       "      <td>0.0</td>\n",
       "      <td>0.0</td>\n",
       "      <td>0.0</td>\n",
       "      <td>0.0</td>\n",
       "      <td>0.0</td>\n",
       "      <td>0.0</td>\n",
       "    </tr>\n",
       "    <tr>\n",
       "      <th>58</th>\n",
       "      <td>0.859034</td>\n",
       "      <td>0.000000</td>\n",
       "      <td>0.000000</td>\n",
       "      <td>0.0</td>\n",
       "      <td>0.000000</td>\n",
       "      <td>0.359034</td>\n",
       "      <td>0.000000</td>\n",
       "      <td>0.0</td>\n",
       "      <td>0.0</td>\n",
       "      <td>0.000000</td>\n",
       "      <td>...</td>\n",
       "      <td>0.0</td>\n",
       "      <td>0.0</td>\n",
       "      <td>0.000000</td>\n",
       "      <td>0.0</td>\n",
       "      <td>0.0</td>\n",
       "      <td>0.0</td>\n",
       "      <td>0.0</td>\n",
       "      <td>0.0</td>\n",
       "      <td>0.0</td>\n",
       "      <td>0.0</td>\n",
       "    </tr>\n",
       "    <tr>\n",
       "      <th>91</th>\n",
       "      <td>0.594295</td>\n",
       "      <td>0.094295</td>\n",
       "      <td>-0.405705</td>\n",
       "      <td>0.0</td>\n",
       "      <td>0.000000</td>\n",
       "      <td>0.000000</td>\n",
       "      <td>-0.905705</td>\n",
       "      <td>0.0</td>\n",
       "      <td>0.0</td>\n",
       "      <td>0.594295</td>\n",
       "      <td>...</td>\n",
       "      <td>0.0</td>\n",
       "      <td>0.0</td>\n",
       "      <td>0.000000</td>\n",
       "      <td>0.0</td>\n",
       "      <td>0.0</td>\n",
       "      <td>0.0</td>\n",
       "      <td>0.0</td>\n",
       "      <td>0.0</td>\n",
       "      <td>0.0</td>\n",
       "      <td>0.0</td>\n",
       "    </tr>\n",
       "    <tr>\n",
       "      <th>104</th>\n",
       "      <td>0.000000</td>\n",
       "      <td>0.000000</td>\n",
       "      <td>0.000000</td>\n",
       "      <td>0.0</td>\n",
       "      <td>0.000000</td>\n",
       "      <td>0.000000</td>\n",
       "      <td>0.000000</td>\n",
       "      <td>0.0</td>\n",
       "      <td>0.0</td>\n",
       "      <td>0.000000</td>\n",
       "      <td>...</td>\n",
       "      <td>0.0</td>\n",
       "      <td>0.0</td>\n",
       "      <td>0.000000</td>\n",
       "      <td>0.0</td>\n",
       "      <td>0.0</td>\n",
       "      <td>0.0</td>\n",
       "      <td>0.0</td>\n",
       "      <td>0.0</td>\n",
       "      <td>0.0</td>\n",
       "      <td>0.0</td>\n",
       "    </tr>\n",
       "  </tbody>\n",
       "</table>\n",
       "<p>5 rows × 4476 columns</p>\n",
       "</div>"
      ],
      "text/plain": [
       "            1         2         3    4         5         6         7    8  \\\n",
       "0    0.000000  0.000000  0.000000  0.0  0.000000  0.000000  0.000000  0.0   \n",
       "54   0.557143 -0.442857  0.000000  0.0 -0.442857 -0.442857  0.000000  0.0   \n",
       "58   0.859034  0.000000  0.000000  0.0  0.000000  0.359034  0.000000  0.0   \n",
       "91   0.594295  0.094295 -0.405705  0.0  0.000000  0.000000 -0.905705  0.0   \n",
       "104  0.000000  0.000000  0.000000  0.0  0.000000  0.000000  0.000000  0.0   \n",
       "\n",
       "       9        10  ...  112183  112290    112552  112556  112623  112852  \\\n",
       "0    0.0  0.000000  ...     0.0     0.0  0.818627     0.0     0.0     0.0   \n",
       "54   0.0  0.557143  ...     0.0     0.0  0.000000     0.0     0.0     0.0   \n",
       "58   0.0  0.000000  ...     0.0     0.0  0.000000     0.0     0.0     0.0   \n",
       "91   0.0  0.594295  ...     0.0     0.0  0.000000     0.0     0.0     0.0   \n",
       "104  0.0  0.000000  ...     0.0     0.0  0.000000     0.0     0.0     0.0   \n",
       "\n",
       "     115569  116797  116823  118696  \n",
       "0       0.0     0.0     0.0     0.0  \n",
       "54      0.0     0.0     0.0     0.0  \n",
       "58      0.0     0.0     0.0     0.0  \n",
       "91      0.0     0.0     0.0     0.0  \n",
       "104     0.0     0.0     0.0     0.0  \n",
       "\n",
       "[5 rows x 4476 columns]"
      ]
     },
     "execution_count": 11,
     "metadata": {},
     "output_type": "execute_result"
    }
   ],
   "source": [
    "# fillna(0) should come after scaling\n",
    "pivot_norm = pivot_norm_na.fillna(0)\n",
    "pivot_norm.head()"
   ]
  },
  {
   "cell_type": "markdown",
   "id": "f310f7b0-6759-4b42-9443-fea1da95b67d",
   "metadata": {},
   "source": [
    "### Similarity matrix using pairwise cosine similarity\n",
    "To measure the similarity of users from the utility matrix, we can use the Cosine Distance method, which calculates the angle between the ratings of different users. In this method, we treat the blank entries as zero. One thing to note about this method is that it latently treats the lack of a rating as disliking the movie (i.e. rating = 0) (Ullman et al., 2014).\n",
    "\n",
    "We will be using the cosine_similarity function from the sklearn library. We will implement collaborative filtering using cosine similarity.\n",
    "We can compute pairwise cosine similarity on the rows of a sparse matrix directly using sklearn."
   ]
  },
  {
   "cell_type": "code",
   "execution_count": 13,
   "id": "8f66ce29-9a11-40c0-b9ac-41516626f831",
   "metadata": {},
   "outputs": [],
   "source": [
    "from sklearn.metrics.pairwise import cosine_similarity"
   ]
  },
  {
   "cell_type": "code",
   "execution_count": 12,
   "id": "fb277c16-9588-45ad-9137-6f9cd0b7d855",
   "metadata": {},
   "outputs": [
    {
     "data": {
      "text/plain": [
       "<6585x4476 sparse matrix of type '<class 'numpy.float64'>'\n",
       "\twith 5343235 stored elements in Compressed Sparse Row format>"
      ]
     },
     "execution_count": 12,
     "metadata": {},
     "output_type": "execute_result"
    }
   ],
   "source": [
    "pivot_norm_sparse = sparse.csr_matrix(pivot_norm)\n",
    "pivot_norm_sparse"
   ]
  },
  {
   "cell_type": "code",
   "execution_count": 15,
   "id": "26311cbb-9c90-40b8-bf02-5967e4797638",
   "metadata": {},
   "outputs": [
    {
     "name": "stdout",
     "output_type": "stream",
     "text": [
      "Similarity matrix calculation took  33.855188846588135\n"
     ]
    }
   ],
   "source": [
    "start = time.time()\n",
    "similarities = cosine_similarity(pivot_norm_sparse)\n",
    "end = time.time()\n",
    "print('Similarity matrix calculation took', end - start, 'seconds')\n",
    "#print('pairwise dense output:\\n {}\\n'.format(similarities))"
   ]
  },
  {
   "cell_type": "code",
   "execution_count": null,
   "id": "894c7817-48e8-4835-b8ab-cce5f2f14f37",
   "metadata": {},
   "outputs": [],
   "source": [
    "similarities_sparse = cosine_similarity(pivot_norm_sparse, dense_output=False)\n",
    "#print('pairwise dense output:\\n {}\\n'.format(similarities_sparse))"
   ]
  },
  {
   "cell_type": "markdown",
   "id": "44011b54-5c85-4713-8154-9a423a828924",
   "metadata": {},
   "source": [
    "Has the length of number of users, which is correct. however, the user id are lost in this representation\n",
    "We can precompute the matrux and save it. It will not correspond to the production conditions (in production ratings matrix is updated contantly), but for the demotration purposes it "
   ]
  },
  {
   "cell_type": "code",
   "execution_count": 16,
   "id": "fc5aadc8-8123-46a2-8c4c-309900c6883c",
   "metadata": {},
   "outputs": [],
   "source": [
    "def return_similarity(user_index, similarity_mat):\n",
    "    \"\"\"\n",
    "    return cosine similarity for user with the index ``user_index`` based on the precomputed similarity matrix.\n",
    "    \"\"\"\n",
    "    \n",
    "    similarity_list = []\n",
    "    for i, sim in enumerate(similarity_mat[user_index, :]):\n",
    "        if sim == similarity_mat[user_index, user_index]:\n",
    "            continue\n",
    "        similarity = {\n",
    "            'user_index': i,\n",
    "            'cosine_similarity': round(sim, 3)\n",
    "        }\n",
    "        similarity_list.append(similarity)\n",
    "\n",
    "    return similarity_list\n",
    "\n",
    "#return_similarity(1, similarities)"
   ]
  },
  {
   "cell_type": "code",
   "execution_count": 17,
   "id": "3f00f3d5-8639-4335-b82b-63e4c1bef3ec",
   "metadata": {},
   "outputs": [],
   "source": [
    "def plot_rating(expected_dict, idx):\n",
    "    title = expected_dict.keys()\n",
    "    rating = expected_dict.values()\n",
    "    recommended = []\n",
    "    for score in rating:\n",
    "        if score > 0:\n",
    "            recommended.append(True)\n",
    "        else:\n",
    "            recommended.append(False)\n",
    "            \n",
    "    df = pd.DataFrame({\n",
    "        \"Title\": title, \n",
    "        \"Expected Rating\": rating, \n",
    "        \"Recommended\": recommended\n",
    "    }).sort_values(by = \"Expected Rating\", ascending = False)\n",
    "    plt.figure(figsize=(20, 7))\n",
    "    plt.xticks(rotation=90)\n",
    "    plt.title(\"Predicted Rating for Unwatched Movies and Recommendation\")\n",
    "    \n",
    "    # return the plot and a dataframe of the top 10 recommended movies\n",
    "    return (sns.barplot(x = \"Title\", y = \"Expected Rating\", hue = \"Recommended\", data = df.iloc[:30,:]), df.iloc[:30,:])"
   ]
  },
  {
   "cell_type": "code",
   "execution_count": 18,
   "id": "51a2bf27-eb84-4b15-b45f-e55d8a66ea5b",
   "metadata": {},
   "outputs": [],
   "source": [
    "def get_movie_titles_by_ids(ids, movie_df):\n",
    "    titles = []\n",
    "    for i in ids.astype(int):\n",
    "        title = movie_df[movie_df.movieId == i].title\n",
    "        titles.append(title)\n",
    "    return titles"
   ]
  },
  {
   "cell_type": "code",
   "execution_count": 66,
   "id": "dfe12359-7c35-4efa-b90c-cff74b6ed3b3",
   "metadata": {},
   "outputs": [],
   "source": [
    "def get_predicted_ratings(userId, mat, similarity_mat, means):\n",
    "    current_rating = np.array([mat.loc[userId,:]]).reshape(-1, 1)\n",
    "    \n",
    "    # BASE CASE: if the user has watched all movies, then returns nothing.\n",
    "    if 0 not in current_rating: \n",
    "        print(\"This user has watched all the movies.\")\n",
    "        return -1\n",
    "\n",
    "    # get user index in the matrix\n",
    "    user_index = np.where(mat.index == userId)[0][0]\n",
    "    \n",
    "    # get similrities for this user\n",
    "    similarity_list = return_similarity(user_index, similarity_mat)\n",
    "    # user only certain number of closest users to avaoid calculation of the all ratings\n",
    "    similarity_list = sorted(similarity_list, key=lambda x: x['cosine_similarity'], reverse=True)[:1000]\n",
    "    \n",
    "    movie_ids = mat.columns\n",
    "    movie_titles = get_movie_titles_by_ids(movie_ids, movies)\n",
    "    \n",
    "    ratings = current_rating[0].tolist()\n",
    "    expected_dict = dict()\n",
    "    for n, movie_id in enumerate(movie_ids):\n",
    "        rating = mat.loc[user_index, movie_id]\n",
    "        \n",
    "        # skip if the user has already seen a movie\n",
    "        if rating != 0: \n",
    "            continue\n",
    "\n",
    "        numerator = 0\n",
    "        denominator = 0        \n",
    "        for similarity in similarity_list:\n",
    "            other_idx = similarity['user_index']\n",
    "            other_similarity = similarity['cosine_similarity']\n",
    "            other_user_rating = mat.iloc[other_idx, n]\n",
    "            \n",
    "            # we do not consider the similarity of unwatched users \n",
    "            # because it only affects the denominator but not numerator\n",
    "            if other_user_rating == 0: \n",
    "                continue\n",
    "\n",
    "            # numerator is iteratively adding up each rating x each similarity score\n",
    "            numerator = numerator + (other_user_rating * other_similarity)\n",
    "            denominator += other_similarity\n",
    "\n",
    "        if denominator == 0: # avoid zero division error\n",
    "            expected_rating = 0\n",
    "        else:\n",
    "            expected_rating = round(numerator / denominator, 3) + means[user_index]\n",
    "\n",
    "        expected_dict[movie_titles[n].values[0]] = expected_rating\n",
    "\n",
    "    return expected_dict, user_index"
   ]
  },
  {
   "cell_type": "code",
   "execution_count": 68,
   "id": "bf381a47-6ad2-4994-b653-0b35e884abd7",
   "metadata": {},
   "outputs": [
    {
     "name": "stdout",
     "output_type": "stream",
     "text": [
      "Predicted ratings calculation based on 1000 closest users took 103.76475596427917 seconds\n"
     ]
    }
   ],
   "source": [
    "# compute predicted ratings\n",
    "start = time.time()\n",
    "ratings_pred, user_index = get_predicted_ratings(0, pivot_norm, similarities, means)\n",
    "end = time.time()\n",
    "print('Predicted ratings calculation based on 1000 closest users took', end - start, 'seconds')"
   ]
  },
  {
   "cell_type": "code",
   "execution_count": 69,
   "id": "23dcdb2d-bb6f-4474-9752-b050a68ad429",
   "metadata": {},
   "outputs": [
    {
     "data": {
      "text/plain": [
       "(<Axes: title={'center': 'Predicted Rating for Unwatched Movies and Recommendation'}, xlabel='Title', ylabel='Expected Rating'>,\n",
       "                                                   Title  Expected Rating  \\\n",
       " 1773                                    American Beauty         5.181373   \n",
       " 527   Dr. Strangelove or: How I Learned to Stop Worr...         5.113373   \n",
       " 3176  Passion of Joan of Arc, The (Passion de Jeanne...         5.094373   \n",
       " 780                                          Goodfellas         5.082373   \n",
       " 44                                 Seven (a.k.a. Se7en)         5.027373   \n",
       " 772   Good, the Bad and the Ugly, The (Buono, il bru...         5.019373   \n",
       " 3219                       Diabolique (Les diaboliques)         5.015373   \n",
       " 3095                     Tokyo Story (Tôkyô monogatari)         5.013373   \n",
       " 774                                        12 Angry Men         5.013373   \n",
       " 757                                      Paths of Glory         5.011373   \n",
       " 3298        Wages of Fear, The (Salaire de la peur, Le)         5.009373   \n",
       " 787                                   Full Metal Jacket         5.006373   \n",
       " 602                                          Casablanca         4.993373   \n",
       " 611              Sunset Blvd. (a.k.a. Sunset Boulevard)         4.993373   \n",
       " 1988                  Woman in the Dunes (Suna no onna)         4.991373   \n",
       " 1453                                 American History X         4.987373   \n",
       " 594                                         Rear Window         4.986373   \n",
       " 2781                Wild Strawberries (Smultronstället)         4.966373   \n",
       " 3462                                            Old Boy         4.965373   \n",
       " 779                                      Third Man, The         4.960373   \n",
       " 823                                    Deer Hunter, The         4.954373   \n",
       " 813                                           Chinatown         4.954373   \n",
       " 2099                                       Modern Times         4.948373   \n",
       " 777   Once Upon a Time in the West (C'era una volta ...         4.946373   \n",
       " 3104                                              Ikiru         4.939373   \n",
       " 2536            Cries and Whispers (Viskningar och rop)         4.937373   \n",
       " 484                                         Underground         4.936373   \n",
       " 800            Seventh Seal, The (Sjunde inseglet, Det)         4.929373   \n",
       " 1025                                  L.A. Confidential         4.924373   \n",
       " 793                                         Raging Bull         4.922373   \n",
       " \n",
       "       Recommended  \n",
       " 1773         True  \n",
       " 527          True  \n",
       " 3176         True  \n",
       " 780          True  \n",
       " 44           True  \n",
       " 772          True  \n",
       " 3219         True  \n",
       " 3095         True  \n",
       " 774          True  \n",
       " 757          True  \n",
       " 3298         True  \n",
       " 787          True  \n",
       " 602          True  \n",
       " 611          True  \n",
       " 1988         True  \n",
       " 1453         True  \n",
       " 594          True  \n",
       " 2781         True  \n",
       " 3462         True  \n",
       " 779          True  \n",
       " 823          True  \n",
       " 813          True  \n",
       " 2099         True  \n",
       " 777          True  \n",
       " 3104         True  \n",
       " 2536         True  \n",
       " 484          True  \n",
       " 800          True  \n",
       " 1025         True  \n",
       " 793          True  )"
      ]
     },
     "execution_count": 69,
     "metadata": {},
     "output_type": "execute_result"
    },
    {
     "data": {
      "image/png": "[encoded data removed]",
      "text/plain": [
       "<Figure size 2000x700 with 1 Axes>"
      ]
     },
     "metadata": {},
     "output_type": "display_data"
    }
   ],
   "source": [
    "# plot results\n",
    "plot_rating(ratings_pred, user_index)"
   ]
  },
  {
   "cell_type": "markdown",
   "id": "5c1fbd56-fbd4-4cfc-b41b-ab90e76c89fd",
   "metadata": {},
   "source": [
    "Computation of similarity is fast if using the sparse matrix.\n",
    "However, computation of predisted ratings is really slow : here we compute the ratings for all the movies through looping.\n",
    "To improve this, I can try:\n",
    "* consider only N most simlilar users\n",
    "* compute the ratings based on these users only.\n",
    "\n",
    "**50 cloasest users:**\n",
    "It does not recommend me the movies that I watched and liked.\n",
    "\n",
    "Apart from Pulp Fiction, but not in the first twenty. Why?\n",
    "\n",
    "**100 cloasest users:**\n",
    "It does not recommend me the movies that I watched and liked, apart from Pulp Fiction, Pulp Fiction, Fight Club and The Godfather, in the best twenty.\n",
    "\n",
    "**150 cloasest users:**\n",
    "Not better\n",
    "\n",
    "**200 cloasest users:**\n",
    "More popular movies appear in the list, but still, most of hte films in hte list I do not know.\n",
    "It relly things I may like the Pumkinghead movie:)\n",
    "\n",
    "**300 closest users:**\n",
    "\n",
    "It seems that it would recommend alot of films to me that I watched and rated highly. But those are also among the most popular movies. \n",
    "\n",
    "After filtering the films already watched, it sould recommend some films to me that I did not rated, but watched and really liked, but most of the films are unknown to me.\n",
    "\n",
    "**350 closest users:**\n",
    "\n",
    "The filtered list seems to be better and better: I recognise more films that I watched, but not rated, and liked.\n",
    "\n",
    "More and for foreign suggestions, which make sense, as I rated quite some non-americal films, I guess..\n",
    "\n",
    "**400 closest users:**\n",
    "A lot of foreign films suggested, when filtered the watched movies.\n",
    "If the wathed movies are not filtered, it shows mostly popular movies, but some Tarkovsky movies as well, which a good sign.\n",
    "\n",
    "\n",
    "the hypothesis: this methos cannot rely on the low number of closest user, as this selection can be very non-representative. the more users are used to compute the predicted ratings, the more \"meaningful\" the suggestion are to me personally.\n",
    "\n",
    "**500 closest users:**\n",
    "It takes about a minute to predict the ratings.\n",
    "The unfiltered list is mostly the films that I watched and rated highly.\n",
    "The filtered list is mostly films I dod not know, a maybe too exotic.\n",
    "\n",
    "**1000 closest users:**\n",
    "I have a feeling, the suggestions are a bit more interesting, if filtered.\n",
    "\n",
    "\n",
    "\n",
    "There should be metric that I can apply to determine the optimal number of closest users.\n",
    "I should also implement longtail management.\n",
    "\n",
    "\n",
    "\n",
    "    \n"
   ]
  },
  {
   "cell_type": "code",
   "execution_count": 233,
   "id": "c10b6767-a2b6-4019-81fb-bf607cdc566c",
   "metadata": {},
   "outputs": [],
   "source": [
    "def get_n_similar_users(user_index, similarity_mat, n):\n",
    "    list = []\n",
    "    similarity_list = return_similarity(user_index, similarity_mat)\n",
    "    return sorted(similarity_list, key=lambda x: x['cosine_similarity'], reverse=True)[:n]"
   ]
  },
  {
   "cell_type": "markdown",
   "id": "5a3c2f3b-a339-44ea-a4ef-09a3e6301fcc",
   "metadata": {},
   "source": [
    "## Implementing pipeline with NN algo"
   ]
  },
  {
   "cell_type": "code",
   "execution_count": null,
   "id": "6cff7b4e-17cc-4f13-8068-f8a55df99c25",
   "metadata": {},
   "outputs": [],
   "source": [
    "# Modelling\n",
    "Below we execute the following steps:\n",
    "* Randomly choosing a target user fo whom recommendations will be generated\n",
    "* Pre-clustering of users using KMeans model\n",
    "* Creating a new matrix corresponding with users in the target user cluster\n",
    "* Defining the Mean User Vector for the working data matrix\n",
    "* Training the Nearest Neighbors model on the Mean User Vector\n",
    "* Processing the results of the NN modeling: collecting, aggregating, filtering results and presenting recommendations"
   ]
  },
  {
   "cell_type": "markdown",
   "id": "9c3115bd",
   "metadata": {
    "tags": []
   },
   "source": [
    "### Pre-clustering with KMeans"
   ]
  },
  {
   "cell_type": "code",
   "execution_count": null,
   "id": "b1c154f9",
   "metadata": {
    "tags": []
   },
   "outputs": [],
   "source": [
    "# Pre-clustering users with K-means\n",
    "# 20 clusters\n",
    "kmeans = KMeans(n_clusters=20, algorithm='lloyd', n_init='auto').fit(csr_util_mat) # Demands lots of resources\n",
    "labels = kmeans.labels_ \n",
    "unique, counts = np.unique(labels, return_counts=True)\n",
    "\n",
    "print(\"The number of users per class:\\n\")\n",
    "for u, c in zip(unique, counts):\n",
    "    print(u, c)"
   ]
  },
  {
   "cell_type": "code",
   "execution_count": null,
   "id": "7768caad",
   "metadata": {
    "tags": []
   },
   "outputs": [],
   "source": [
    "# Let's randomly choose an existing user\n",
    "user_index = np.random.choice(csr_util_mat.shape[0])    \n",
    "print('The target user ', user_index, ' belongs to the cluster number', labels[user_index])\n",
    "\n",
    "# Creating the csr matrix only for usrs of the cluster of the target user\n",
    "# get indices of the users in the selected cluster\n",
    "cluster_user_indices = []\n",
    "for i,l in enumerate(labels):\n",
    "    if l == labels[user_index]:\n",
    "        cluster_user_indices.append(i)\n",
    "        \n",
    "# create a new csr_util_mat only with the users from the cluster\n",
    "mask = np.zeros(csr_util_mat.shape[0], dtype=bool)\n",
    "mask[cluster_user_indices] = True\n",
    "\n",
    "#csr_util_mat_cluster = csr_util_mat[mask]\n",
    "csr_util_mat_cluster = csr_util_mat \n",
    "\n",
    "# When shrinking the matrix, the index of the target user changes to the new_user_index\n",
    "new_user_index = np.nonzero(np.array(cluster_user_indices) == user_index)[0][0]\n",
    "print('The new index of the target user is ', new_user_index)\n",
    "\n",
    "# Calculating the mean users' ratings\n",
    "#def calculate_mean_user_vector(csr_util_mat):\n",
    "#    csr_mean = csr_util_mat.sum(axis=1)/csr_util_mat.getnnz(axis=1)\n",
    "#    mean_user_vector = np.asarray(csr_mean)\n",
    "#    flattened_reshaped = mean_user_vector.mean(axis=1).flatten().reshape(-1, 1)\n",
    "#    return mean_user_vector.reshape(-1), flattened_reshaped\n",
    "\n",
    "#mean_user_vector, model_mean_user_vector = calculate_mean_user_vector(csr_util_mat_cluster)"
   ]
  },
  {
   "cell_type": "markdown",
   "id": "d29a3804",
   "metadata": {},
   "source": [
    "### Nearest Neighbors model"
   ]
  },
  {
   "cell_type": "code",
   "execution_count": null,
   "id": "19f787a9-8f8c-4d0a-bc7f-d55b33d6ff88",
   "metadata": {
    "tags": []
   },
   "outputs": [],
   "source": [
    "# Create NN object and fit it with the mean user vector\n",
    "\n",
    "number_of_closest_users = 150\n",
    "nn = neighbors.NearestNeighbors(metric='cosine', algorithm='brute', n_neighbors=number_of_closest_users)\n",
    "nn.fit(csr_util_mat_cluster) \n",
    "number_of_most_closest_users = 20 # for visualization purpose only\n",
    "nn_sub = neighbors.NearestNeighbors(metric='cosine', algorithm='brute', n_neighbors=number_of_most_closest_users)\n",
    "nn_sub.fit(csr_util_mat_cluster)\n",
    "\n",
    "# Find the nearest neighbors for the target user (e.g., User1)\n",
    "\n",
    "mask = np.zeros(csr_util_mat_cluster.shape[0], dtype=bool)\n",
    "mask[new_user_index] = True\n",
    "target_user_row = csr_util_mat_cluster[mask]\n",
    "\n",
    "distances, indices = nn.kneighbors(target_user_row)\n",
    "distances_sub, indices_sub = nn_sub.kneighbors(target_user_row)"
   ]
  },
  {
   "cell_type": "markdown",
   "id": "83fb115f",
   "metadata": {},
   "source": [
    "### Postprocessing"
   ]
  },
  {
   "cell_type": "code",
   "execution_count": null,
   "id": "b9763321",
   "metadata": {
    "tags": []
   },
   "outputs": [],
   "source": [
    "# Collecting ratings from the closers users\n",
    "def keep_rows_csr(mat, indices):\n",
    "    \"\"\"\n",
    "   Keep the rows denoted by ``indices`` form the CSR sparse matrix ``mat``.\n",
    "    \"\"\"\n",
    "    #if not isinstance(mat, scipy.sparse.csr_matrix):\n",
    "     #   raise ValueError(\"works only for CSR format -- use .tocsr() first\")\n",
    "    indices = indices.flatten()\n",
    "    mask = np.zeros(mat.shape[0], dtype=bool)\n",
    "    mask[indices] = True\n",
    "    return mat[mask]\n",
    "    \n",
    "\n",
    "# a csr matrix with the closest users only\n",
    "csr_util_mat_closests_users = keep_rows_csr(csr_util_mat_cluster, indices)\n",
    "\n",
    "# Aggregating the ratings from the closest users\n",
    "# calculate the averaged rating of the movies given by the neiboghrs\n",
    "\n",
    "def closest_users_average_ratings(mat):\n",
    "    mat_array = mat.toarray()\n",
    "    mat_array[mat_array == 0] = np.nan\n",
    "    av_ratings = np.nanmean(mat_array, axis=0)\n",
    "    df = pd.DataFrame(data ={'movieId': , 'rating': av_ratings })\n",
    "    \n",
    "    return df\n",
    "\n",
    "\n",
    "rating_aggregation = closest_users_average_ratings(csr_util_mat_closests_users)\n",
    "\n",
    "# rank them by sorting\n",
    "movies_indices_sorted_desc = np.argsort(rating_aggregation)[::-1]\n",
    "best_20_movies = movies_indices_sorted_desc[:20]\n",
    "\n",
    "# Filtering:\n",
    "# get the user movies row\n",
    "mask = np.zeros(csr_util_mat_cluster.shape[0], dtype=bool)\n",
    "mask[new_user_index] = True\n",
    "target_user_row = csr_util_mat_cluster[mask].toarray().flatten()\n",
    "\n",
    "# get indices of the unwatched movies\n",
    "unwatched_indices = np.nonzero(target_user_row == 0)\n",
    "\n",
    "# get indices of the watched movies\n",
    "watched_indices = np.nonzero(target_user_row != 0)\n",
    "\n",
    "# keep only unwatches movie indices\n",
    "filter_arr = []\n",
    "for element in movies_indices_sorted_desc:\n",
    "  if element in unwatched_indices[0]:\n",
    "    filter_arr.append(True)\n",
    "  else:\n",
    "    filter_arr.append(False)\n",
    "\n",
    "movies_to_watch_unfiltered = movies_indices_sorted_desc\n",
    "movies_to_watch = movies_indices_sorted_desc[filter_arr]\n",
    "\n",
    "# Provide personalised recommendations\n",
    "watched_indices = np.nonzero(target_user_row != 0)\n",
    "\n",
    "# get intersection between watched_indices and recommender indices\n",
    "intersection_indices = np.intersect1d(watched_indices[0],best_20_movies[0])\n",
    "\n",
    "print('User watched ', len(watched_indices[0]), ' movies')\n",
    "print('System recommends ', len(best_20_movies), ' movies')\n",
    "print(len(intersection_indices), ' movies are in common')\n",
    "\n",
    "def get_movie_titles_by_indices(indices):\n",
    "    titles = []\n",
    "    for i in indices:\n",
    "        titles.append(pivot.columns[i])\n",
    "    return titles\n",
    "\n",
    "print(\"User \" + str(user_index) + \" watched and rated the following movies:\\n\")\n",
    "\n",
    "for index, movie in enumerate(get_movie_titles_by_indices(watched_indices)[:20]):\n",
    "    print(str(index+1), \":\", str(movie))\n",
    "    \n",
    "print(\"\\n\")\n",
    "print(\"Recommendation for User \" + str(user_index) + \":\\n\")\n",
    "for index, movie in enumerate(get_movie_titles_by_indices(best_20_movies)):\n",
    "    print(str(index+1), \":\", str(movie))"
   ]
  },
  {
   "cell_type": "code",
   "execution_count": null,
   "id": "bd44dd40-ffd3-40bc-82cb-0881ca7bd98c",
   "metadata": {},
   "outputs": [],
   "source": [
    "var = 5"
   ]
  },
  {
   "cell_type": "code",
   "execution_count": null,
   "id": "165ec5e8-22e6-43ae-b1b0-e967a19323e0",
   "metadata": {},
   "outputs": [],
   "source": [
    "def text_function(x):\n",
    "    return x + var"
   ]
  },
  {
   "cell_type": "code",
   "execution_count": null,
   "id": "a8a08619-e865-4aec-a3c8-b5327da304f5",
   "metadata": {},
   "outputs": [],
   "source": [
    "print(text_function(6))"
   ]
  },
  {
   "cell_type": "markdown",
   "id": "839de50d-f3de-4ecb-b34b-a0d159e18753",
   "metadata": {},
   "source": [
    "# Surprise"
   ]
  },
  {
   "cell_type": "code",
   "execution_count": null,
   "id": "88ddcc19-c00a-4e81-82db-a44197257688",
   "metadata": {},
   "outputs": [],
   "source": [
    "import os\n",
    "from surprise import BaselineOnly, Dataset, Reader, SVD, KNNBasic\n",
    "from surprise.model_selection import cross_validate"
   ]
  },
  {
   "cell_type": "code",
   "execution_count": null,
   "id": "c5a9a961-1485-4e13-a4c3-ca25fa8e4e64",
   "metadata": {},
   "outputs": [],
   "source": [
    "final_ratings = pd.read_csv('matrices/final_ratings.csv')\n",
    "final_ratings.head()"
   ]
  },
  {
   "cell_type": "code",
   "execution_count": null,
   "id": "353a130f-b42d-4c4e-b1cc-45cef05bca2b",
   "metadata": {},
   "outputs": [],
   "source": [
    "final_ratings.info()"
   ]
  },
  {
   "cell_type": "code",
   "execution_count": null,
   "id": "9e79fcc4-5c17-4e2e-99b3-abe9f8645b9f",
   "metadata": {},
   "outputs": [],
   "source": [
    "# path to dataset file\n",
    "# A reader is still needed but only the rating_scale param is requiered.\n",
    "reader = Reader(rating_scale=(0.5, 5))\n",
    "\n",
    "# The columns must correspond to user id, item id and ratings (in that order).\n",
    "data = Dataset.load_from_df(final_ratings[[\"userId\", \"movieId\", \"rating\"]], reader)"
   ]
  },
  {
   "cell_type": "code",
   "execution_count": null,
   "id": "3ab27e9b-385b-462e-8c52-ebde6b024fb4",
   "metadata": {},
   "outputs": [],
   "source": [
    "algo = SVD()\n",
    "cross_validate(algo, data, measures=[\"RMSE\", \"MAE\"], cv=5, verbose=True)"
   ]
  },
  {
   "cell_type": "code",
   "execution_count": null,
   "id": "4449fa7a-1634-41b9-abd2-adce02497a85",
   "metadata": {},
   "outputs": [],
   "source": [
    "algo = KNNBasic()\n",
    "cross_validate(algo, data, measures=[\"RMSE\", \"MAE\"], cv=5, verbose=True)"
   ]
  },
  {
   "cell_type": "markdown",
   "id": "3fcfea3a-a322-4067-bd98-e928883bdc7b",
   "metadata": {},
   "source": [
    "## Comparing Surprise with sklearn"
   ]
  },
  {
   "cell_type": "markdown",
   "id": "810d6caf-1d31-4de5-a6b9-2ebf34124e2f",
   "metadata": {},
   "source": [
    "### Neighborhood methods study"
   ]
  },
  {
   "cell_type": "code",
   "execution_count": null,
   "id": "d845717e-f58a-4ea2-ad22-37df154a9b90",
   "metadata": {},
   "outputs": [],
   "source": [
    "# Let's randomly choose an existing user\n",
    "user_index = np.random.choice(csr_util_mat.shape[0])"
   ]
  },
  {
   "cell_type": "code",
   "execution_count": null,
   "id": "4e050e41-c15d-4574-a8b9-14218b240da5",
   "metadata": {},
   "outputs": [],
   "source": [
    "# Create NN object and fit it with the mean user vector\n",
    "\n",
    "number_of_closest_users = 50\n",
    "nn = neighbors.NearestNeighbors(metric='cosine', algorithm='brute', n_neighbors=number_of_closest_users)\n",
    "nn.fit(csr_util_mat) \n",
    "\n",
    "# Find the nearest neighbors for the target user\n",
    "\n",
    "mask = np.zeros(csr_util_mat_cluster.shape[0], dtype=bool)\n",
    "mask[user_index] = True\n",
    "target_user_row = csr_util_mat_cluster[mask]\n",
    "\n",
    "distances, indices = nn.kneighbors(target_user_row)"
   ]
  },
  {
   "cell_type": "code",
   "execution_count": null,
   "id": "e496293c-1501-42ba-9a38-cfdefd55b994",
   "metadata": {},
   "outputs": [],
   "source": [
    "csr_util_mat\n"
   ]
  },
  {
   "cell_type": "markdown",
   "id": "2aa07978-c22b-4ec6-b79b-3aa2ecfea75c",
   "metadata": {},
   "source": [
    "## some stuff"
   ]
  },
  {
   "cell_type": "code",
   "execution_count": null,
   "id": "ad651b7e-1eda-4baf-b000-6cc160822278",
   "metadata": {
    "tags": []
   },
   "outputs": [],
   "source": [
    "# Exercise: visualize the results as graph\n",
    "import networkx as nx\n",
    "\n",
    "G = nx.Graph()\n",
    "G.add_node(new_user_index)\n",
    "\n",
    "closest_users = indices.reshape(-1)\n",
    "closest_users_sub = indices.reshape(-1)[1:number_of_most_closest_users +1]\n",
    "closest_users_remaining = indices.reshape(-1)[number_of_most_closest_users+1 :]"
   ]
  },
  {
   "cell_type": "code",
   "execution_count": null,
   "id": "32d493e1-29f0-4e40-ad98-b96357326ed9",
   "metadata": {},
   "outputs": [],
   "source": [
    "print(len(closest_users), closest_users)\n",
    "print(len(closest_users_sub), closest_users_sub)"
   ]
  },
  {
   "cell_type": "code",
   "execution_count": null,
   "id": "cbdab375-2195-4bca-b49f-c8e93e0967a4",
   "metadata": {
    "tags": []
   },
   "outputs": [],
   "source": [
    "G.add_nodes_from(indices.reshape(-1)[1:])\n",
    "\n",
    "weights = 1/(distances.reshape(-1)[1:])\n",
    "\n",
    "G.add_weighted_edges_from(list((new_user_index, n, w) for n,w in zip(closest_users[1:],weights)))\n",
    "\n",
    "pos = nx.fruchterman_reingold_layout(G)\n",
    "\n",
    "plt.figure(figsize = (10, 10))\n",
    "ax = plt.axes()\n",
    "ax.set_facecolor(\"white\")\n",
    "plt.title(\"Visualization of the results of the NN algo\")\n",
    "\n",
    "nx.draw_networkx_nodes(G, pos, node_size = 100, nodelist = closest_users_remaining, node_color = \"#ff5e33\")\n",
    "nx.draw_networkx_nodes(G, pos, node_size = 100, nodelist = closest_users_sub, node_color = \"#33ff83\", label= str(number_of_most_closest_users) + \" closest users\")\n",
    "nx.draw_networkx_nodes(G, pos, node_size = 200, nodelist = [new_user_index], node_color = \"#ffffff\")\n",
    "nxlabels = nx.get_edge_attributes(G,'weight')\n",
    "nx.draw_networkx_edges(G, pos, alpha = 0.3, edge_color = \"#48dbc8\")\n",
    "#nx.draw_networkx_edge_labels(G,pos,edge_labels=nxlabels)\n",
    "#nx.draw_networkx_labels(G,pos,font_size=10, labels={user_index: user_index})\n",
    "nx.draw_networkx_labels(G,pos,font_size=10)\n",
    "plt.grid(visible=False)\n",
    "plt.legend()\n",
    "plt.show()"
   ]
  }
 ],
 "metadata": {
  "kernelspec": {
   "display_name": "Python 3 (ipykernel)",
   "language": "python",
   "name": "python3"
  },
  "language_info": {
   "codemirror_mode": {
    "name": "ipython",
    "version": 3
   },
   "file_extension": ".py",
   "mimetype": "text/x-python",
   "name": "python",
   "nbconvert_exporter": "python",
   "pygments_lexer": "ipython3",
   "version": "3.10.9"
  }
 },
 "nbformat": 4,
 "nbformat_minor": 5
}
