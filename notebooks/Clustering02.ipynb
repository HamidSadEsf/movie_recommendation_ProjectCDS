{
 "cells": [
  {
   "cell_type": "code",
   "execution_count": 1,
   "id": "59c43df3-e943-44da-9830-b3491ee6da55",
   "metadata": {},
   "outputs": [],
   "source": [
    "import pandas as pd\n",
    "import numpy as np\n",
    "import matplotlib.pyplot as plt\n",
    "import seaborn as sns\n",
    "%matplotlib inline\n",
    "sns.set()\n",
    "df_gscore = pd.read_csv('genome-scores.csv')\n",
    "df_gtags = pd.read_csv('genome-tags.csv')\n",
    "df_links = pd.read_csv('links.csv')\n",
    "df_movies = pd.read_csv('movies.csv')\n",
    "df_rating = pd.read_csv('ratings.csv')\n",
    "df_tagspd = pd.read_csv('tags.csv')"
   ]
  },
  {
   "cell_type": "markdown",
   "id": "807cde26-9bb4-49d7-80bd-5d84b9ecc884",
   "metadata": {},
   "source": [
    "## Creating the genome dataset"
   ]
  },
  {
   "cell_type": "code",
   "execution_count": 2,
   "id": "8712285a-e250-4d37-9a76-469c62132772",
   "metadata": {},
   "outputs": [
    {
     "name": "stdout",
     "output_type": "stream",
     "text": [
      "<class 'pandas.core.frame.DataFrame'>\n",
      "Int64Index: 11709768 entries, 0 to 11709767\n",
      "Data columns (total 3 columns):\n",
      " #   Column     Non-Null Count     Dtype  \n",
      "---  ------     --------------     -----  \n",
      " 0   tagId      11709768 non-null  int64  \n",
      " 1   movieId    11709768 non-null  int64  \n",
      " 2   relevance  11709768 non-null  float64\n",
      "dtypes: float64(1), int64(2)\n",
      "memory usage: 357.4 MB\n"
     ]
    }
   ],
   "source": [
    "df_gtagscore=df_gtags.merge(df_gscore, how='right', on='tagId').drop('tag', axis =1)\n",
    "df_gtagscore.drop_duplicates(subset=['tagId', 'movieId'],inplace=True)\n",
    "df_gtagscore.info(show_counts=True)"
   ]
  },
  {
   "cell_type": "markdown",
   "id": "6a95c62b-dad5-4da0-9c79-940ce4623415",
   "metadata": {},
   "source": [
    "# pivoting the datafram"
   ]
  },
  {
   "cell_type": "code",
   "execution_count": 3,
   "id": "2addacc2-ce75-4d1c-abd7-10e52c3e0ce4",
   "metadata": {},
   "outputs": [],
   "source": [
    "df_gtagscore = df_gtagscore.pivot(index = 'movieId', columns = 'tagId', values='relevance')"
   ]
  },
  {
   "cell_type": "code",
   "execution_count": 4,
   "id": "904a6b6b-582f-4065-ae75-a12b4e5eaad8",
   "metadata": {},
   "outputs": [
    {
     "data": {
      "text/plain": [
       "(10381, 1128)"
      ]
     },
     "execution_count": 4,
     "metadata": {},
     "output_type": "execute_result"
    }
   ],
   "source": [
    "df_gtagscore.shape"
   ]
  },
  {
   "cell_type": "markdown",
   "id": "1cc1f48c-1da6-4be4-a41a-434f84ea53d8",
   "metadata": {},
   "source": [
    "## adding realease year and genres as columns"
   ]
  },
  {
   "cell_type": "code",
   "execution_count": 9,
   "id": "14ee8324-8e54-427c-8e88-9de2ab0ed859",
   "metadata": {
    "tags": []
   },
   "outputs": [],
   "source": [
    "df_movies = pd.read_csv('movies.csv')\n",
    "mask = df_movies['title'].str.contains('09–')\n",
    "\n",
    "df_movies = pd.read_csv('movies.csv')\n",
    "def condition(x):\n",
    "    if x[-2:]=='a)':\n",
    "        return np.nan\n",
    "    elif x[-2:]=='l)':\n",
    "        return np.nan\n",
    "    elif x[-3:-1]=='7-':\n",
    "        return 2007\n",
    "    elif x[-4:-2]=='9–':\n",
    "        return 2009\n",
    "    elif x[-2:]=='))':\n",
    "        return x[-6:-2]\n",
    "    elif x[-1:]==')':\n",
    "        return x[-5:-1]\n",
    "    elif x[-1:]==' ':\n",
    "        return x[-6:-2]\n",
    "    else:\n",
    "        return np.nan\n",
    "df_movies['releaseyear'] = df_movies['title'].apply(condition).fillna(1993)"
   ]
  },
  {
   "cell_type": "code",
   "execution_count": 10,
   "id": "b12d2010-8289-4bb4-a17f-625ba05854b8",
   "metadata": {
    "tags": []
   },
   "outputs": [
    {
     "name": "stderr",
     "output_type": "stream",
     "text": [
      "C:\\Users\\HamidEsfahlani\\AppData\\Local\\Temp\\ipykernel_2564\\1447042938.py:2: FutureWarning: Using the level keyword in DataFrame and Series aggregations is deprecated and will be removed in a future version. Use groupby instead. df.sum(level=1) should use df.groupby(level=1).sum().\n",
      "  dummies = pd.get_dummies(df_movies.genres.apply(pd.Series).stack()).sum(level=0)\n"
     ]
    }
   ],
   "source": [
    "df_movies.genres= df_movies.genres.str.split('|')\n",
    "dummies = pd.get_dummies(df_movies.genres.apply(pd.Series).stack()).sum(level=0)\n",
    "df_movies = pd.concat([df_movies, dummies], axis=1).drop('genres', axis=1)"
   ]
  },
  {
   "cell_type": "code",
   "execution_count": 11,
   "id": "0213576b-ff71-4e8c-aa6a-ea492357511f",
   "metadata": {
    "tags": []
   },
   "outputs": [],
   "source": [
    "from sklearn.preprocessing import MinMaxScaler, LabelEncoder\n",
    "df_movies =df_movies.drop('title', axis =1)\n",
    "\"\"\"\n",
    "le = LabelEncoder()\n",
    "le.fit(df_movies.genres)\n",
    "df_movies.genres= le.transform(df_movies.genres)\n",
    "\n",
    "scaler = MinMaxScaler()\n",
    "df_movies.genres = scaler.fit_transform(df_movies[['genres']])\n",
    "\"\"\"\n",
    "scaler02 = MinMaxScaler()\n",
    "df_movies.releaseyear = scaler02.fit_transform(df_movies[['releaseyear']])"
   ]
  },
  {
   "cell_type": "code",
   "execution_count": 12,
   "id": "c5306f7e-22d3-41ae-9161-3befd636e473",
   "metadata": {
    "tags": []
   },
   "outputs": [],
   "source": [
    "df_ContBaseRec = pd.merge(df_gtagscore, df_movies, how='inner', on='movieId').set_index('movieId')\n",
    "df_ContBaseRec.columns = df_ContBaseRec.columns.astype(str)"
   ]
  },
  {
   "cell_type": "markdown",
   "id": "4216b3e0-5c72-4e10-889b-20efb36dd6b7",
   "metadata": {},
   "source": [
    "# Clustering"
   ]
  },
  {
   "cell_type": "markdown",
   "id": "49a34850-4b6e-4ad5-81a6-ca4445e0da8f",
   "metadata": {},
   "source": [
    "## importing the libraries"
   ]
  },
  {
   "cell_type": "code",
   "execution_count": 13,
   "id": "eea04b3b-8ea8-48e7-b97a-edc606f70889",
   "metadata": {},
   "outputs": [],
   "source": [
    "from sklearn.metrics import silhouette_score\n",
    "from sklearn.cluster import KMeans\n",
    "from scipy.spatial.distance import cdist"
   ]
  },
  {
   "cell_type": "markdown",
   "id": "00515ced-febd-4234-8dbc-f9bbc38ec0e7",
   "metadata": {},
   "source": [
    "## training the Model"
   ]
  },
  {
   "cell_type": "code",
   "execution_count": 14,
   "id": "5fb239bd-fe24-4a3c-b2b1-de48c9664b74",
   "metadata": {},
   "outputs": [],
   "source": [
    "kmeans = KMeans(n_clusters=18, n_init='auto')\n",
    "kmeans.fit(df_ContBaseRec)\n",
    "labels = kmeans.labels_"
   ]
  },
  {
   "cell_type": "markdown",
   "id": "49d7548a-e418-4c7e-80c6-99309e2e6609",
   "metadata": {},
   "source": [
    "## seeing and visualizing the distribution"
   ]
  },
  {
   "cell_type": "code",
   "execution_count": 16,
   "id": "47f2453f-4de3-4da1-8a64-09e414b2f290",
   "metadata": {},
   "outputs": [
    {
     "name": "stdout",
     "output_type": "stream",
     "text": [
      "0: 233 occurrences\n",
      "1: 526 occurrences\n",
      "2: 537 occurrences\n",
      "3: 752 occurrences\n",
      "4: 536 occurrences\n",
      "5: 718 occurrences\n",
      "6: 558 occurrences\n",
      "7: 1148 occurrences\n",
      "8: 1265 occurrences\n",
      "9: 404 occurrences\n",
      "10: 587 occurrences\n",
      "11: 238 occurrences\n",
      "12: 464 occurrences\n",
      "13: 613 occurrences\n",
      "14: 461 occurrences\n",
      "15: 554 occurrences\n",
      "16: 341 occurrences\n",
      "17: 446 occurrences\n"
     ]
    }
   ],
   "source": [
    "unique_values, counts= np.unique(labels, return_counts=True)\n",
    "for value, count in zip(unique_values, counts):\n",
    "    print(f\"{value}: {count} occurrences\")"
   ]
  },
  {
   "cell_type": "code",
   "execution_count": 17,
   "id": "c51438d1-d830-4631-83d5-093f610ddaa6",
   "metadata": {},
   "outputs": [
    {
     "data": {
      "text/plain": [
       "''"
      ]
     },
     "execution_count": 17,
     "metadata": {},
     "output_type": "execute_result"
    },
    {
     "data": {
      "image/png": "[encoded data removed]",
      "text/plain": [
       "<Figure size 640x480 with 1 Axes>"
      ]
     },
     "metadata": {},
     "output_type": "display_data"
    }
   ],
   "source": [
    "g=sns.barplot(x=unique_values, y=(counts/labels.size)*100)\n",
    "g.set(xlabel='labels', ylabel='procentage of occurences', title='distrubution of the movies in the clusters')\n",
    ";"
   ]
  },
  {
   "cell_type": "markdown",
   "id": "0a66edfd-2e2d-4586-8287-04695fc0fd4e",
   "metadata": {},
   "source": [
    "## random sampling"
   ]
  },
  {
   "cell_type": "code",
   "execution_count": 80,
   "id": "07dd0b88-c16f-4850-8814-921bee69849c",
   "metadata": {},
   "outputs": [
    {
     "data": {
      "text/html": [
       "<div>\n",
       "<style scoped>\n",
       "    .dataframe tbody tr th:only-of-type {\n",
       "        vertical-align: middle;\n",
       "    }\n",
       "\n",
       "    .dataframe tbody tr th {\n",
       "        vertical-align: top;\n",
       "    }\n",
       "\n",
       "    .dataframe thead th {\n",
       "        text-align: right;\n",
       "    }\n",
       "</style>\n",
       "<table border=\"1\" class=\"dataframe\">\n",
       "  <thead>\n",
       "    <tr style=\"text-align: right;\">\n",
       "      <th></th>\n",
       "      <th>labels</th>\n",
       "      <th>title</th>\n",
       "      <th>genres</th>\n",
       "    </tr>\n",
       "    <tr>\n",
       "      <th>movieId</th>\n",
       "      <th></th>\n",
       "      <th></th>\n",
       "      <th></th>\n",
       "    </tr>\n",
       "  </thead>\n",
       "  <tbody>\n",
       "    <tr>\n",
       "      <th>30</th>\n",
       "      <td>1</td>\n",
       "      <td>Shanghai Triad (Yao a yao yao dao waipo qiao) ...</td>\n",
       "      <td>Crime|Drama</td>\n",
       "    </tr>\n",
       "    <tr>\n",
       "      <th>59</th>\n",
       "      <td>1</td>\n",
       "      <td>Confessional, The (Confessionnal, Le) (1995)</td>\n",
       "      <td>Drama|Mystery</td>\n",
       "    </tr>\n",
       "    <tr>\n",
       "      <th>97</th>\n",
       "      <td>1</td>\n",
       "      <td>Hate (Haine, La) (1995)</td>\n",
       "      <td>Crime|Drama</td>\n",
       "    </tr>\n",
       "    <tr>\n",
       "      <th>123</th>\n",
       "      <td>1</td>\n",
       "      <td>Chungking Express (Chung Hing sam lam) (1994)</td>\n",
       "      <td>Drama|Mystery|Romance</td>\n",
       "    </tr>\n",
       "    <tr>\n",
       "      <th>154</th>\n",
       "      <td>1</td>\n",
       "      <td>Beauty of the Day (Belle de jour) (1967)</td>\n",
       "      <td>Drama</td>\n",
       "    </tr>\n",
       "    <tr>\n",
       "      <th>199</th>\n",
       "      <td>1</td>\n",
       "      <td>Umbrellas of Cherbourg, The (Parapluies de Che...</td>\n",
       "      <td>Drama|Musical|Romance</td>\n",
       "    </tr>\n",
       "    <tr>\n",
       "      <th>215</th>\n",
       "      <td>1</td>\n",
       "      <td>Before Sunrise (1995)</td>\n",
       "      <td>Drama|Romance</td>\n",
       "    </tr>\n",
       "    <tr>\n",
       "      <th>233</th>\n",
       "      <td>1</td>\n",
       "      <td>Exotica (1994)</td>\n",
       "      <td>Drama</td>\n",
       "    </tr>\n",
       "    <tr>\n",
       "      <th>247</th>\n",
       "      <td>1</td>\n",
       "      <td>Heavenly Creatures (1994)</td>\n",
       "      <td>Crime|Drama</td>\n",
       "    </tr>\n",
       "    <tr>\n",
       "      <th>264</th>\n",
       "      <td>1</td>\n",
       "      <td>Enfer, L' (1994)</td>\n",
       "      <td>Drama</td>\n",
       "    </tr>\n",
       "  </tbody>\n",
       "</table>\n",
       "</div>"
      ],
      "text/plain": [
       "         labels                                              title  \\\n",
       "movieId                                                              \n",
       "30            1  Shanghai Triad (Yao a yao yao dao waipo qiao) ...   \n",
       "59            1       Confessional, The (Confessionnal, Le) (1995)   \n",
       "97            1                            Hate (Haine, La) (1995)   \n",
       "123           1      Chungking Express (Chung Hing sam lam) (1994)   \n",
       "154           1           Beauty of the Day (Belle de jour) (1967)   \n",
       "199           1  Umbrellas of Cherbourg, The (Parapluies de Che...   \n",
       "215           1                              Before Sunrise (1995)   \n",
       "233           1                                     Exotica (1994)   \n",
       "247           1                          Heavenly Creatures (1994)   \n",
       "264           1                                   Enfer, L' (1994)   \n",
       "\n",
       "                        genres  \n",
       "movieId                         \n",
       "30                 Crime|Drama  \n",
       "59               Drama|Mystery  \n",
       "97                 Crime|Drama  \n",
       "123      Drama|Mystery|Romance  \n",
       "154                      Drama  \n",
       "199      Drama|Musical|Romance  \n",
       "215              Drama|Romance  \n",
       "233                      Drama  \n",
       "247                Crime|Drama  \n",
       "264                      Drama  "
      ]
     },
     "execution_count": 80,
     "metadata": {},
     "output_type": "execute_result"
    }
   ],
   "source": [
    "df_movies = pd.read_csv('movies.csv')\n",
    "df_labeledMovies= pd.DataFrame({'movieId': df_ContBaseRec.index, 'labels': labels}).merge(df_movies, on='movieId').set_index('movieId')\n",
    "df_labeledMovies[df_labeledMovies.labels==1].head(10)"
   ]
  },
  {
   "cell_type": "code",
   "execution_count": 81,
   "id": "fc31e36d-1b1f-446f-99aa-efd502495ee4",
   "metadata": {},
   "outputs": [
    {
     "data": {
      "text/html": [
       "<div>\n",
       "<style scoped>\n",
       "    .dataframe tbody tr th:only-of-type {\n",
       "        vertical-align: middle;\n",
       "    }\n",
       "\n",
       "    .dataframe tbody tr th {\n",
       "        vertical-align: top;\n",
       "    }\n",
       "\n",
       "    .dataframe thead th {\n",
       "        text-align: right;\n",
       "    }\n",
       "</style>\n",
       "<table border=\"1\" class=\"dataframe\">\n",
       "  <thead>\n",
       "    <tr style=\"text-align: right;\">\n",
       "      <th></th>\n",
       "      <th>labels</th>\n",
       "      <th>title</th>\n",
       "      <th>genres</th>\n",
       "    </tr>\n",
       "    <tr>\n",
       "      <th>movieId</th>\n",
       "      <th></th>\n",
       "      <th></th>\n",
       "      <th></th>\n",
       "    </tr>\n",
       "  </thead>\n",
       "  <tbody>\n",
       "    <tr>\n",
       "      <th>70</th>\n",
       "      <td>5</td>\n",
       "      <td>From Dusk Till Dawn (1996)</td>\n",
       "      <td>Action|Comedy|Horror|Thriller</td>\n",
       "    </tr>\n",
       "    <tr>\n",
       "      <th>152</th>\n",
       "      <td>5</td>\n",
       "      <td>Addiction, The (1995)</td>\n",
       "      <td>Drama|Horror</td>\n",
       "    </tr>\n",
       "    <tr>\n",
       "      <th>177</th>\n",
       "      <td>5</td>\n",
       "      <td>Lord of Illusions (1995)</td>\n",
       "      <td>Horror</td>\n",
       "    </tr>\n",
       "    <tr>\n",
       "      <th>188</th>\n",
       "      <td>5</td>\n",
       "      <td>Prophecy, The (1995)</td>\n",
       "      <td>Fantasy|Horror|Mystery</td>\n",
       "    </tr>\n",
       "    <tr>\n",
       "      <th>220</th>\n",
       "      <td>5</td>\n",
       "      <td>Castle Freak (1995)</td>\n",
       "      <td>Horror</td>\n",
       "    </tr>\n",
       "    <tr>\n",
       "      <th>253</th>\n",
       "      <td>5</td>\n",
       "      <td>Interview with the Vampire: The Vampire Chroni...</td>\n",
       "      <td>Drama|Horror</td>\n",
       "    </tr>\n",
       "    <tr>\n",
       "      <th>328</th>\n",
       "      <td>5</td>\n",
       "      <td>Tales from the Crypt Presents: Demon Knight (1...</td>\n",
       "      <td>Horror|Thriller</td>\n",
       "    </tr>\n",
       "    <tr>\n",
       "      <th>330</th>\n",
       "      <td>5</td>\n",
       "      <td>Tales from the Hood (1995)</td>\n",
       "      <td>Action|Crime|Horror</td>\n",
       "    </tr>\n",
       "    <tr>\n",
       "      <th>366</th>\n",
       "      <td>5</td>\n",
       "      <td>Wes Craven's New Nightmare (Nightmare on Elm S...</td>\n",
       "      <td>Drama|Horror|Mystery|Thriller</td>\n",
       "    </tr>\n",
       "    <tr>\n",
       "      <th>382</th>\n",
       "      <td>5</td>\n",
       "      <td>Wolf (1994)</td>\n",
       "      <td>Drama|Horror|Romance|Thriller</td>\n",
       "    </tr>\n",
       "  </tbody>\n",
       "</table>\n",
       "</div>"
      ],
      "text/plain": [
       "         labels                                              title  \\\n",
       "movieId                                                              \n",
       "70            5                         From Dusk Till Dawn (1996)   \n",
       "152           5                              Addiction, The (1995)   \n",
       "177           5                           Lord of Illusions (1995)   \n",
       "188           5                               Prophecy, The (1995)   \n",
       "220           5                                Castle Freak (1995)   \n",
       "253           5  Interview with the Vampire: The Vampire Chroni...   \n",
       "328           5  Tales from the Crypt Presents: Demon Knight (1...   \n",
       "330           5                         Tales from the Hood (1995)   \n",
       "366           5  Wes Craven's New Nightmare (Nightmare on Elm S...   \n",
       "382           5                                        Wolf (1994)   \n",
       "\n",
       "                                genres  \n",
       "movieId                                 \n",
       "70       Action|Comedy|Horror|Thriller  \n",
       "152                       Drama|Horror  \n",
       "177                             Horror  \n",
       "188             Fantasy|Horror|Mystery  \n",
       "220                             Horror  \n",
       "253                       Drama|Horror  \n",
       "328                    Horror|Thriller  \n",
       "330                Action|Crime|Horror  \n",
       "366      Drama|Horror|Mystery|Thriller  \n",
       "382      Drama|Horror|Romance|Thriller  "
      ]
     },
     "execution_count": 81,
     "metadata": {},
     "output_type": "execute_result"
    }
   ],
   "source": [
    "df_labeledMovies[df_labeledMovies.labels== 5].head(10)"
   ]
  },
  {
   "cell_type": "markdown",
   "id": "d1384c0b-208e-44cc-87f0-9ca169d68a0a",
   "metadata": {},
   "source": [
    "## looking at the movies which are in the same cluster as \"Network (1975)\""
   ]
  },
  {
   "cell_type": "code",
   "execution_count": 82,
   "id": "00413bf1-c9d8-4247-bc78-fe669137fbd0",
   "metadata": {},
   "outputs": [
    {
     "data": {
      "text/html": [
       "<div>\n",
       "<style scoped>\n",
       "    .dataframe tbody tr th:only-of-type {\n",
       "        vertical-align: middle;\n",
       "    }\n",
       "\n",
       "    .dataframe tbody tr th {\n",
       "        vertical-align: top;\n",
       "    }\n",
       "\n",
       "    .dataframe thead th {\n",
       "        text-align: right;\n",
       "    }\n",
       "</style>\n",
       "<table border=\"1\" class=\"dataframe\">\n",
       "  <thead>\n",
       "    <tr style=\"text-align: right;\">\n",
       "      <th></th>\n",
       "      <th>labels</th>\n",
       "      <th>title</th>\n",
       "      <th>genres</th>\n",
       "    </tr>\n",
       "    <tr>\n",
       "      <th>movieId</th>\n",
       "      <th></th>\n",
       "      <th></th>\n",
       "      <th></th>\n",
       "    </tr>\n",
       "  </thead>\n",
       "  <tbody>\n",
       "    <tr>\n",
       "      <th>6</th>\n",
       "      <td>7</td>\n",
       "      <td>Heat (1995)</td>\n",
       "      <td>Action|Crime|Thriller</td>\n",
       "    </tr>\n",
       "    <tr>\n",
       "      <th>16</th>\n",
       "      <td>7</td>\n",
       "      <td>Casino (1995)</td>\n",
       "      <td>Crime|Drama</td>\n",
       "    </tr>\n",
       "    <tr>\n",
       "      <th>47</th>\n",
       "      <td>7</td>\n",
       "      <td>Seven (a.k.a. Se7en) (1995)</td>\n",
       "      <td>Mystery|Thriller</td>\n",
       "    </tr>\n",
       "    <tr>\n",
       "      <th>50</th>\n",
       "      <td>7</td>\n",
       "      <td>Usual Suspects, The (1995)</td>\n",
       "      <td>Crime|Mystery|Thriller</td>\n",
       "    </tr>\n",
       "    <tr>\n",
       "      <th>111</th>\n",
       "      <td>7</td>\n",
       "      <td>Taxi Driver (1976)</td>\n",
       "      <td>Crime|Drama|Thriller</td>\n",
       "    </tr>\n",
       "    <tr>\n",
       "      <th>288</th>\n",
       "      <td>7</td>\n",
       "      <td>Natural Born Killers (1994)</td>\n",
       "      <td>Action|Crime|Thriller</td>\n",
       "    </tr>\n",
       "    <tr>\n",
       "      <th>293</th>\n",
       "      <td>7</td>\n",
       "      <td>Léon: The Professional (a.k.a. The Professiona...</td>\n",
       "      <td>Action|Crime|Drama|Thriller</td>\n",
       "    </tr>\n",
       "    <tr>\n",
       "      <th>296</th>\n",
       "      <td>7</td>\n",
       "      <td>Pulp Fiction (1994)</td>\n",
       "      <td>Comedy|Crime|Drama|Thriller</td>\n",
       "    </tr>\n",
       "    <tr>\n",
       "      <th>319</th>\n",
       "      <td>7</td>\n",
       "      <td>Shallow Grave (1994)</td>\n",
       "      <td>Comedy|Drama|Thriller</td>\n",
       "    </tr>\n",
       "    <tr>\n",
       "      <th>322</th>\n",
       "      <td>7</td>\n",
       "      <td>Swimming with Sharks (1995)</td>\n",
       "      <td>Comedy|Drama</td>\n",
       "    </tr>\n",
       "  </tbody>\n",
       "</table>\n",
       "</div>"
      ],
      "text/plain": [
       "         labels                                              title  \\\n",
       "movieId                                                              \n",
       "6             7                                        Heat (1995)   \n",
       "16            7                                      Casino (1995)   \n",
       "47            7                        Seven (a.k.a. Se7en) (1995)   \n",
       "50            7                         Usual Suspects, The (1995)   \n",
       "111           7                                 Taxi Driver (1976)   \n",
       "288           7                        Natural Born Killers (1994)   \n",
       "293           7  Léon: The Professional (a.k.a. The Professiona...   \n",
       "296           7                                Pulp Fiction (1994)   \n",
       "319           7                               Shallow Grave (1994)   \n",
       "322           7                        Swimming with Sharks (1995)   \n",
       "\n",
       "                              genres  \n",
       "movieId                               \n",
       "6              Action|Crime|Thriller  \n",
       "16                       Crime|Drama  \n",
       "47                  Mystery|Thriller  \n",
       "50            Crime|Mystery|Thriller  \n",
       "111             Crime|Drama|Thriller  \n",
       "288            Action|Crime|Thriller  \n",
       "293      Action|Crime|Drama|Thriller  \n",
       "296      Comedy|Crime|Drama|Thriller  \n",
       "319            Comedy|Drama|Thriller  \n",
       "322                     Comedy|Drama  "
      ]
     },
     "execution_count": 82,
     "metadata": {},
     "output_type": "execute_result"
    }
   ],
   "source": [
    "label =df_labeledMovies[df_labeledMovies.title.str.contains(r'\\bNetwork\\b.{0,9}$', case=False)].labels.item()\n",
    "df_labeledMovies[df_labeledMovies.labels== label].head(10)"
   ]
  }
 ],
 "metadata": {
  "kernelspec": {
   "display_name": "Python 3 (ipykernel)",
   "language": "python",
   "name": "python3"
  },
  "language_info": {
   "codemirror_mode": {
    "name": "ipython",
    "version": 3
   },
   "file_extension": ".py",
   "mimetype": "text/x-python",
   "name": "python",
   "nbconvert_exporter": "python",
   "pygments_lexer": "ipython3",
   "version": "3.10.11"
  }
 },
 "nbformat": 4,
 "nbformat_minor": 5
}
